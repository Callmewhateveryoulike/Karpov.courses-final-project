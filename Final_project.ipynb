{
 "cells": [
  {
   "cell_type": "code",
   "execution_count": 1,
   "metadata": {},
   "outputs": [],
   "source": [
    "import pandas as pd\n",
    "import scipy.stats as st\n",
    "import numpy as np\n",
    "from tqdm import tqdm\n",
    "import seaborn as sns \n",
    "import matplotlib.pyplot as plt\n",
    "import pandahouse as ph"
   ]
  },
  {
   "cell_type": "code",
   "execution_count": 2,
   "metadata": {},
   "outputs": [],
   "source": [
    "#                                                   Задание 1"
   ]
  },
  {
   "cell_type": "code",
   "execution_count": 3,
   "metadata": {},
   "outputs": [],
   "source": [
    "groups_df = pd.read_csv(r'/home/jupyter-i.gorodnichev-15/files_for_project/Проект_2_groups.csv', sep=';', encoding = 'utf-8') #судя по всему, файлы\n",
    "# неправильно были сохранены в csv формат, из-за чего некоторые строки не считываются корректно, т.к. при их просмотре в  \n",
    "# текстовом редакторе каких-либо ошибок не видно. Можно пересохранить их или игнорировать строки, вызывающие ошибку \n",
    "# (параметр error_bad_lines метода read_csv должен быть равен False).\n",
    "\n",
    "info_df = pd.read_csv(r'/home/jupyter-i.gorodnichev-15/files_for_project/Проект_2_active_studs.csv', sep=';', encoding = 'utf-8')\n",
    "\n",
    "cheks_df = pd.read_csv(r'/home/jupyter-i.gorodnichev-15/files_for_project/Проект_2_checks.csv', sep=';', encoding = 'utf-8')"
   ]
  },
  {
   "cell_type": "code",
   "execution_count": 4,
   "metadata": {},
   "outputs": [
    {
     "data": {
      "text/plain": [
       "id     0\n",
       "grp    0\n",
       "dtype: int64"
      ]
     },
     "execution_count": 4,
     "metadata": {},
     "output_type": "execute_result"
    }
   ],
   "source": [
    "# проверим данные на предмет пустых значений \n",
    "groups_df.isna().sum()"
   ]
  },
  {
   "cell_type": "code",
   "execution_count": 5,
   "metadata": {},
   "outputs": [
    {
     "data": {
      "text/plain": [
       "student_id    0\n",
       "dtype: int64"
      ]
     },
     "execution_count": 5,
     "metadata": {},
     "output_type": "execute_result"
    }
   ],
   "source": [
    "info_df.isna().sum()"
   ]
  },
  {
   "cell_type": "code",
   "execution_count": 6,
   "metadata": {},
   "outputs": [
    {
     "data": {
      "text/plain": [
       "student_id    0\n",
       "rev           0\n",
       "dtype: int64"
      ]
     },
     "execution_count": 6,
     "metadata": {},
     "output_type": "execute_result"
    }
   ],
   "source": [
    "cheks_df.isna().sum()"
   ]
  },
  {
   "cell_type": "code",
   "execution_count": 7,
   "metadata": {
    "scrolled": true
   },
   "outputs": [
    {
     "data": {
      "text/html": [
       "<div>\n",
       "<style scoped>\n",
       "    .dataframe tbody tr th:only-of-type {\n",
       "        vertical-align: middle;\n",
       "    }\n",
       "\n",
       "    .dataframe tbody tr th {\n",
       "        vertical-align: top;\n",
       "    }\n",
       "\n",
       "    .dataframe thead th {\n",
       "        text-align: right;\n",
       "    }\n",
       "</style>\n",
       "<table border=\"1\" class=\"dataframe\">\n",
       "  <thead>\n",
       "    <tr style=\"text-align: right;\">\n",
       "      <th></th>\n",
       "      <th>student_id</th>\n",
       "      <th>rev</th>\n",
       "      <th>grp</th>\n",
       "    </tr>\n",
       "  </thead>\n",
       "  <tbody>\n",
       "    <tr>\n",
       "      <th>0</th>\n",
       "      <td>1627</td>\n",
       "      <td>990.0</td>\n",
       "      <td>A</td>\n",
       "    </tr>\n",
       "    <tr>\n",
       "      <th>1</th>\n",
       "      <td>287008</td>\n",
       "      <td>1830.0</td>\n",
       "      <td>A</td>\n",
       "    </tr>\n",
       "    <tr>\n",
       "      <th>2</th>\n",
       "      <td>332387</td>\n",
       "      <td>2910.0</td>\n",
       "      <td>A</td>\n",
       "    </tr>\n",
       "    <tr>\n",
       "      <th>3</th>\n",
       "      <td>347455</td>\n",
       "      <td>2820.0</td>\n",
       "      <td>A</td>\n",
       "    </tr>\n",
       "    <tr>\n",
       "      <th>4</th>\n",
       "      <td>445767</td>\n",
       "      <td>3660.0</td>\n",
       "      <td>A</td>\n",
       "    </tr>\n",
       "    <tr>\n",
       "      <th>...</th>\n",
       "      <td>...</td>\n",
       "      <td>...</td>\n",
       "      <td>...</td>\n",
       "    </tr>\n",
       "    <tr>\n",
       "      <th>73</th>\n",
       "      <td>5394575</td>\n",
       "      <td>990.0</td>\n",
       "      <td>A</td>\n",
       "    </tr>\n",
       "    <tr>\n",
       "      <th>74</th>\n",
       "      <td>5545563</td>\n",
       "      <td>1160.0</td>\n",
       "      <td>A</td>\n",
       "    </tr>\n",
       "    <tr>\n",
       "      <th>75</th>\n",
       "      <td>5557468</td>\n",
       "      <td>290.0</td>\n",
       "      <td>A</td>\n",
       "    </tr>\n",
       "    <tr>\n",
       "      <th>76</th>\n",
       "      <td>5567520</td>\n",
       "      <td>489.0</td>\n",
       "      <td>A</td>\n",
       "    </tr>\n",
       "    <tr>\n",
       "      <th>77</th>\n",
       "      <td>5577840</td>\n",
       "      <td>590.0</td>\n",
       "      <td>A</td>\n",
       "    </tr>\n",
       "  </tbody>\n",
       "</table>\n",
       "<p>78 rows × 3 columns</p>\n",
       "</div>"
      ],
      "text/plain": [
       "    student_id     rev grp\n",
       "0         1627   990.0   A\n",
       "1       287008  1830.0   A\n",
       "2       332387  2910.0   A\n",
       "3       347455  2820.0   A\n",
       "4       445767  3660.0   A\n",
       "..         ...     ...  ..\n",
       "73     5394575   990.0   A\n",
       "74     5545563  1160.0   A\n",
       "75     5557468   290.0   A\n",
       "76     5567520   489.0   A\n",
       "77     5577840   590.0   A\n",
       "\n",
       "[78 rows x 3 columns]"
      ]
     },
     "execution_count": 7,
     "metadata": {},
     "output_type": "execute_result"
    }
   ],
   "source": [
    "# получим данные о чеках активных во время теста пользователей, которые отнесены к какой-либо группе \n",
    "merged_checks = cheks_df.merge(right = info_df, how = 'inner', on = 'student_id').\\\n",
    "                merge(right = groups_df, how = 'inner', left_on = 'student_id', right_on = 'id') \n",
    "merged_checks = merged_checks.drop(columns = 'id') # удалим лишнюю колонку \n",
    "group_A = merged_checks[merged_checks['grp'] == 'A'].reset_index(drop = True) # переназначим index \n",
    "group_B = merged_checks[merged_checks['grp'] == 'B'].reset_index(drop = True) # переназначим index\n",
    "group_A"
   ]
  },
  {
   "cell_type": "code",
   "execution_count": 8,
   "metadata": {
    "scrolled": true
   },
   "outputs": [
    {
     "data": {
      "text/plain": [
       "<matplotlib.axes._subplots.AxesSubplot at 0x7f01ecfee780>"
      ]
     },
     "execution_count": 8,
     "metadata": {},
     "output_type": "execute_result"
    },
    {
     "data": {
      "image/png": "[encoded data removed]",
      "text/plain": [
       "<Figure size 432x288 with 1 Axes>"
      ]
     },
     "metadata": {
      "needs_background": "light"
     },
     "output_type": "display_data"
    }
   ],
   "source": [
    "sns.boxplot(data = group_A['rev']) # проверим данные на наличие выбросов "
   ]
  },
  {
   "cell_type": "code",
   "execution_count": 9,
   "metadata": {},
   "outputs": [],
   "source": [
    "# имеются выбросы, что может исказить результаты Т-теста "
   ]
  },
  {
   "cell_type": "code",
   "execution_count": 10,
   "metadata": {},
   "outputs": [
    {
     "data": {
      "text/plain": [
       "ShapiroResult(statistic=0.7353236079216003, pvalue=1.4986822893803264e-10)"
      ]
     },
     "execution_count": 10,
     "metadata": {},
     "output_type": "execute_result"
    }
   ],
   "source": [
    "st.shapiro(group_A['rev']) # проверка на нормальность распределения  \n",
    "# распределение нельзя считать нормальным, поэтому для АА-теста лучше не использовать Т-тест "
   ]
  },
  {
   "cell_type": "code",
   "execution_count": 11,
   "metadata": {},
   "outputs": [
    {
     "data": {
      "text/plain": [
       "<seaborn.axisgrid.FacetGrid at 0x7f01ecf1af98>"
      ]
     },
     "execution_count": 11,
     "metadata": {},
     "output_type": "execute_result"
    },
    {
     "data": {
      "image/png": "[encoded data removed]",
      "text/plain": [
       "<Figure size 360x360 with 1 Axes>"
      ]
     },
     "metadata": {
      "needs_background": "light"
     },
     "output_type": "display_data"
    }
   ],
   "source": [
    "sns.displot(data=group_A['rev'], kind=\"kde\") # распределение данных в группе А "
   ]
  },
  {
   "cell_type": "code",
   "execution_count": 12,
   "metadata": {},
   "outputs": [],
   "source": [
    "# распределение нельзя считать нормальным \n",
    "# предполагается использовать U-тест Манна-Уитни для двух независимых выборок (мы принимаем, что выборки такие, \n",
    "# т.к. выбранные значения не возвращаются в исходный массив данных, а повторных данных от одного пользователя не поступало)"
   ]
  },
  {
   "cell_type": "code",
   "execution_count": 13,
   "metadata": {},
   "outputs": [],
   "source": [
    "def AA_test(df, column_name, number_in_sample = 0, iterations = 10000):\n",
    "    if number_in_sample == 0:\n",
    "         number_in_sample = int(df.shape[0]/2) # определяем кол-во элементов сэмпла на основе размера переданного датафрейма\n",
    "    results = []\n",
    "    FP = 0\n",
    "    for i in tqdm(range(0, iterations)):\n",
    "        sample_1 = df.sample(n = number_in_sample)[column_name] # делаются случайные выборки одинакового размера без возвращения элементов\n",
    "        sample_2 = df.sample(n = number_in_sample)[column_name]\n",
    "        results.append(st.mannwhitneyu(sample_1, sample_2)[1]) # сохраняются значения p-value Т-теста в список \n",
    "        if results[i] < 0.05: # считаем число ложноположительных результатов\n",
    "            FP += 1 \n",
    "    plt.xlabel('p-values')\n",
    "    sns.histplot(data= results) # строим гистограмму с распределением p-value выборок, созданных во время АА-теста\n",
    "    plt.show()\n",
    "    return f'FPR = {FP/iterations}' "
   ]
  },
  {
   "cell_type": "code",
   "execution_count": 14,
   "metadata": {},
   "outputs": [
    {
     "name": "stderr",
     "output_type": "stream",
     "text": [
      "100%|██████████| 20000/20000 [00:37<00:00, 526.52it/s]\n"
     ]
    },
    {
     "data": {
      "image/png": "[encoded data removed]",
      "text/plain": [
       "<Figure size 432x288 with 1 Axes>"
      ]
     },
     "metadata": {
      "needs_background": "light"
     },
     "output_type": "display_data"
    },
    {
     "data": {
      "text/plain": [
       "'FPR = 0.00605'"
      ]
     },
     "execution_count": 14,
     "metadata": {},
     "output_type": "execute_result"
    }
   ],
   "source": [
    "AA_test(group_A, column_name = 'rev', iterations = 20000)"
   ]
  },
  {
   "cell_type": "code",
   "execution_count": 15,
   "metadata": {},
   "outputs": [],
   "source": [
    "# Согласно результатам АА-теста исходные данные не отличаются сами от себя (FPR < уровень значимости)"
   ]
  },
  {
   "cell_type": "code",
   "execution_count": 16,
   "metadata": {},
   "outputs": [
    {
     "data": {
      "text/plain": [
       "LeveneResult(statistic=3.0558643506726035, pvalue=0.08123509393501775)"
      ]
     },
     "execution_count": 16,
     "metadata": {},
     "output_type": "execute_result"
    }
   ],
   "source": [
    "st.levene(group_A['rev'], group_B['rev']) # проверка на гомогенность дисперсии \n",
    "# дисперсии можно признать равными "
   ]
  },
  {
   "cell_type": "code",
   "execution_count": 17,
   "metadata": {},
   "outputs": [
    {
     "data": {
      "text/plain": [
       "ShapiroResult(statistic=0.8551987409591675, pvalue=1.756778758085431e-16)"
      ]
     },
     "execution_count": 17,
     "metadata": {},
     "output_type": "execute_result"
    }
   ],
   "source": [
    "# Посмотрим на соответствие данных в выборке для группы Б нормальному распределению\n",
    "st.shapiro(group_B['rev'])"
   ]
  },
  {
   "cell_type": "code",
   "execution_count": 18,
   "metadata": {},
   "outputs": [
    {
     "data": {
      "text/plain": [
       "<seaborn.axisgrid.FacetGrid at 0x7f01ec81a748>"
      ]
     },
     "execution_count": 18,
     "metadata": {},
     "output_type": "execute_result"
    },
    {
     "data": {
      "image/png": "[encoded data removed]",
      "text/plain": [
       "<Figure size 360x360 with 1 Axes>"
      ]
     },
     "metadata": {
      "needs_background": "light"
     },
     "output_type": "display_data"
    }
   ],
   "source": [
    "sns.displot(data=group_B['rev'], kind=\"kde\") # распределение данных в группе Б\n",
    "# по результатам теста и по графику видно, что распределение сильно отклоняется от нормального "
   ]
  },
  {
   "cell_type": "code",
   "execution_count": 19,
   "metadata": {},
   "outputs": [
    {
     "data": {
      "text/plain": [
       "MannwhitneyuResult(statistic=8990.0, pvalue=0.000273244700505943)"
      ]
     },
     "execution_count": 19,
     "metadata": {},
     "output_type": "execute_result"
    }
   ],
   "source": [
    "# проведем непараметрический тест Манна-Уитни для АБ-теста (выбран, т.к. распределение выборок не соответствует нормальному)\n",
    "st.mannwhitneyu(group_A['rev'], group_B['rev'])"
   ]
  },
  {
   "cell_type": "code",
   "execution_count": 20,
   "metadata": {},
   "outputs": [
    {
     "data": {
      "text/plain": [
       "<matplotlib.legend.Legend at 0x7f01ec8c5eb8>"
      ]
     },
     "execution_count": 20,
     "metadata": {},
     "output_type": "execute_result"
    },
    {
     "data": {
      "image/png": "[encoded data removed]",
      "text/plain": [
       "<Figure size 432x288 with 1 Axes>"
      ]
     },
     "metadata": {
      "needs_background": "light"
     },
     "output_type": "display_data"
    }
   ],
   "source": [
    "# Построим боксплот для наглядности \n",
    "ax = sns.boxplot(data = merged_checks, hue = 'grp', y = 'rev', x = 'grp')\n",
    "plt.legend(loc = 'center right', bbox_to_anchor=(1.2, 0.5)) # переместим легенду для более удобного отображения "
   ]
  },
  {
   "cell_type": "code",
   "execution_count": 21,
   "metadata": {},
   "outputs": [],
   "source": [
    "# Согласно тесту Манна-Уитни группа А значимо отличается от группы Б, однако при визуализации заметно, что в данных есть выбросы\n",
    "# возможно стоит проверить, как они влияют на результат (хотя непараметрический тест не так сильно подвержден влиянию выбросов) "
   ]
  },
  {
   "cell_type": "code",
   "execution_count": 22,
   "metadata": {},
   "outputs": [
    {
     "data": {
      "text/plain": [
       "0     4650.0\n",
       "1     3660.0\n",
       "2     3660.0\n",
       "3     3260.0\n",
       "4     3040.0\n",
       "5     2910.0\n",
       "6     2910.0\n",
       "7     2890.0\n",
       "8     2890.0\n",
       "9     2890.0\n",
       "10    2220.0\n",
       "11    2190.0\n",
       "12    2099.0\n",
       "13    2099.0\n",
       "14    2099.0\n",
       "Name: rev, dtype: float64"
      ]
     },
     "execution_count": 22,
     "metadata": {},
     "output_type": "execute_result"
    }
   ],
   "source": [
    "drops_B = group_B['rev'].sort_values(ascending = False).reset_index(drop = True) # отсортируем значения и переназначим индексы\n",
    "# для более удобного поиска выбросов\n",
    "drops_B.head(15)# как видно из боксплота, для группы Б выбросом является значение, превышающее 4000, в данных такое значение \n",
    "# только одно - 4650"
   ]
  },
  {
   "cell_type": "code",
   "execution_count": 23,
   "metadata": {},
   "outputs": [
    {
     "data": {
      "text/plain": [
       "1      3660.0\n",
       "2      3660.0\n",
       "3      3260.0\n",
       "4      3040.0\n",
       "5      2910.0\n",
       "        ...  \n",
       "308     199.0\n",
       "309     199.0\n",
       "310     199.0\n",
       "311     199.0\n",
       "312     199.0\n",
       "Name: rev, Length: 312, dtype: float64"
      ]
     },
     "execution_count": 23,
     "metadata": {},
     "output_type": "execute_result"
    }
   ],
   "source": [
    "drops_B = drops_B.drop(index = 0) # удаляем выброс\n",
    "drops_B"
   ]
  },
  {
   "cell_type": "code",
   "execution_count": 24,
   "metadata": {},
   "outputs": [
    {
     "data": {
      "text/plain": [
       "0     3660.0\n",
       "1     3660.0\n",
       "2     3660.0\n",
       "3     2910.0\n",
       "4     2910.0\n",
       "5     2900.0\n",
       "6     2890.0\n",
       "7     2820.0\n",
       "8     2820.0\n",
       "9     2220.0\n",
       "10    1980.0\n",
       "11    1830.0\n",
       "12    1530.0\n",
       "13    1530.0\n",
       "14    1530.0\n",
       "Name: rev, dtype: float64"
      ]
     },
     "execution_count": 24,
     "metadata": {},
     "output_type": "execute_result"
    }
   ],
   "source": [
    "drops_A = group_A['rev'].sort_values(ascending = False).reset_index(drop = True)# отсортируем значения и переназначим индексы\n",
    "# для более удобного поиска и удаления выбросов\n",
    "drops_A.head(15) # судя по боксплоту для группы А выбросами являются значения, превышающие примерно 2300, избавимся от них"
   ]
  },
  {
   "cell_type": "code",
   "execution_count": 25,
   "metadata": {},
   "outputs": [
    {
     "data": {
      "text/plain": [
       "9     2220.0\n",
       "10    1980.0\n",
       "11    1830.0\n",
       "12    1530.0\n",
       "13    1530.0\n",
       "       ...  \n",
       "73     199.0\n",
       "74     199.0\n",
       "75     199.0\n",
       "76     199.0\n",
       "77     199.0\n",
       "Name: rev, Length: 69, dtype: float64"
      ]
     },
     "execution_count": 25,
     "metadata": {},
     "output_type": "execute_result"
    }
   ],
   "source": [
    "drops_A = drops_A.drop(index = [0,1,2,3,4,5,6,7,8]) # избавимся от выбросов \n",
    "drops_A"
   ]
  },
  {
   "cell_type": "code",
   "execution_count": 26,
   "metadata": {},
   "outputs": [
    {
     "data": {
      "text/plain": [
       "MannwhitneyuResult(statistic=15301.5, pvalue=2.9795874499994477e-08)"
      ]
     },
     "execution_count": 26,
     "metadata": {},
     "output_type": "execute_result"
    }
   ],
   "source": [
    "st.mannwhitneyu(drops_B, drops_A) # теперь посмотрим, как одновременное удаление выбросов из групп А и Б влияет на результат "
   ]
  },
  {
   "cell_type": "code",
   "execution_count": 27,
   "metadata": {},
   "outputs": [],
   "source": [
    "# После удаления выбросов из обеих групп результат теста все равно говорит о статистически значимых различиях между группами.\n",
    "# На основе проделанного выше анализа можно сделать вывод о том, что различия между группой А и Б статистически значимы, \n",
    "# поэтому можно запускать новую механику оплаты на всех пользователей."
   ]
  },
  {
   "cell_type": "code",
   "execution_count": 28,
   "metadata": {},
   "outputs": [],
   "source": [
    "################################################################################################################################"
   ]
  },
  {
   "cell_type": "code",
   "execution_count": 29,
   "metadata": {},
   "outputs": [],
   "source": [
    "#                                                 Задание 2.1"
   ]
  },
  {
   "cell_type": "code",
   "execution_count": 30,
   "metadata": {},
   "outputs": [],
   "source": [
    "connection_default = {'host': 'http://clickhouse.beslan.pro:8080',    # задаем параметры подключения к базе данных \n",
    "                      'database':'default',\n",
    "                      'user':'student', \n",
    "                      'password':'dpo_python_2020'\n",
    "                     }"
   ]
  },
  {
   "cell_type": "code",
   "execution_count": 31,
   "metadata": {},
   "outputs": [
    {
     "data": {
      "text/html": [
       "<div>\n",
       "<style scoped>\n",
       "    .dataframe tbody tr th:only-of-type {\n",
       "        vertical-align: middle;\n",
       "    }\n",
       "\n",
       "    .dataframe tbody tr th {\n",
       "        vertical-align: top;\n",
       "    }\n",
       "\n",
       "    .dataframe thead th {\n",
       "        text-align: right;\n",
       "    }\n",
       "</style>\n",
       "<table border=\"1\" class=\"dataframe\">\n",
       "  <thead>\n",
       "    <tr style=\"text-align: right;\">\n",
       "      <th></th>\n",
       "      <th>good_st</th>\n",
       "    </tr>\n",
       "  </thead>\n",
       "  <tbody>\n",
       "    <tr>\n",
       "      <th>0</th>\n",
       "      <td>0</td>\n",
       "    </tr>\n",
       "  </tbody>\n",
       "</table>\n",
       "</div>"
      ],
      "text/plain": [
       "   good_st\n",
       "0        0"
      ]
     },
     "execution_count": 31,
     "metadata": {},
     "output_type": "execute_result"
    }
   ],
   "source": [
    "query_good_st = '''SELECT DISTINCT count(st_id) as good_st\n",
    "FROM \n",
    "(   \n",
    "    SELECT st_id, \n",
    "           COUNT(correct) as right_pea,                              -- подсчет числа правильных горошин по дням и часам марта\n",
    "           solving_day_hour                                          -- для каждого студента \n",
    "    FROM \n",
    "    (  \n",
    "        SELECT  st_id, \n",
    "                formatDateTime(timest, '%d %H') as solving_day_hour, -- форматирование в день и час для дальнейше группировки\n",
    "                correct\n",
    "        FROM default.peas\n",
    "        WHERE   correct = 1 AND                                      -- выбор правильный решений для дальнейшей их агрегации \n",
    "                formatDateTime(timest, '%Y %m') = '2020 03'          -- выбор нужного месяца \n",
    "    )\n",
    "    GROUP BY st_id, solving_day_hour                                 -- группировка для правильного подсчета числа горошин\n",
    "    HAVING right_pea >= 20                                           -- фильтрация после группировки и агрегации                        \n",
    ") AS peas '''\n",
    "good_st_df = ph.read_clickhouse(query=query_good_st, connection=connection_default) \n",
    "good_st_df.head(10)"
   ]
  },
  {
   "cell_type": "code",
   "execution_count": 32,
   "metadata": {},
   "outputs": [],
   "source": [
    "#                                                 Задание 2.2"
   ]
  },
  {
   "cell_type": "code",
   "execution_count": 33,
   "metadata": {},
   "outputs": [],
   "source": [
    "# в таблице \"studs\" пользователю с одним и тем же id присвоено несколько значений old или/и new, что неправильно с точки зрения\n",
    "# создания самих таблиц (есть id, но при этом строки не являются уникальными), а также неверно с точки зрения логики проведения \n",
    "# АБ-эксперимента - одного пользователя в рамках одного эксперимента почему-то относят к двум разным группам, либо не \n",
    "# содержится информации о разграничении двух разных экспериментов. В данном случае, чтобы корректно соединить таблицы, стоит\n",
    "# создать в них столбцы с числовыми значениями от 1 до числа, равного кол-ву строк таблицы (ключ). Альтернативным вариантом для\n",
    "# решения поставленной задачи является использование конструкции WITH. "
   ]
  },
  {
   "cell_type": "code",
   "execution_count": 34,
   "metadata": {},
   "outputs": [
    {
     "data": {
      "text/html": [
       "<div>\n",
       "<style scoped>\n",
       "    .dataframe tbody tr th:only-of-type {\n",
       "        vertical-align: middle;\n",
       "    }\n",
       "\n",
       "    .dataframe tbody tr th {\n",
       "        vertical-align: top;\n",
       "    }\n",
       "\n",
       "    .dataframe thead th {\n",
       "        text-align: right;\n",
       "    }\n",
       "</style>\n",
       "<table border=\"1\" class=\"dataframe\">\n",
       "  <thead>\n",
       "    <tr style=\"text-align: right;\">\n",
       "      <th></th>\n",
       "      <th>st_id</th>\n",
       "      <th>test_grp</th>\n",
       "    </tr>\n",
       "  </thead>\n",
       "  <tbody>\n",
       "    <tr>\n",
       "      <th>0</th>\n",
       "      <td>1EYY37</td>\n",
       "      <td>old</td>\n",
       "    </tr>\n",
       "    <tr>\n",
       "      <th>1</th>\n",
       "      <td>1N8MTZ</td>\n",
       "      <td>new</td>\n",
       "    </tr>\n",
       "    <tr>\n",
       "      <th>2</th>\n",
       "      <td>1N8MTZ</td>\n",
       "      <td>new</td>\n",
       "    </tr>\n",
       "    <tr>\n",
       "      <th>3</th>\n",
       "      <td>1N8MTZ</td>\n",
       "      <td>new</td>\n",
       "    </tr>\n",
       "    <tr>\n",
       "      <th>4</th>\n",
       "      <td>1N8MTZ</td>\n",
       "      <td>new</td>\n",
       "    </tr>\n",
       "    <tr>\n",
       "      <th>5</th>\n",
       "      <td>1N8MTZ</td>\n",
       "      <td>new</td>\n",
       "    </tr>\n",
       "    <tr>\n",
       "      <th>6</th>\n",
       "      <td>1N8MTZ</td>\n",
       "      <td>new</td>\n",
       "    </tr>\n",
       "    <tr>\n",
       "      <th>7</th>\n",
       "      <td>1N8MTZ</td>\n",
       "      <td>old</td>\n",
       "    </tr>\n",
       "    <tr>\n",
       "      <th>8</th>\n",
       "      <td>1N8MTZ</td>\n",
       "      <td>old</td>\n",
       "    </tr>\n",
       "    <tr>\n",
       "      <th>9</th>\n",
       "      <td>1N8MTZ</td>\n",
       "      <td>old</td>\n",
       "    </tr>\n",
       "    <tr>\n",
       "      <th>10</th>\n",
       "      <td>1N8MTZ</td>\n",
       "      <td>old</td>\n",
       "    </tr>\n",
       "    <tr>\n",
       "      <th>11</th>\n",
       "      <td>1ZXOI6</td>\n",
       "      <td>new</td>\n",
       "    </tr>\n",
       "    <tr>\n",
       "      <th>12</th>\n",
       "      <td>1ZXOI6</td>\n",
       "      <td>new</td>\n",
       "    </tr>\n",
       "    <tr>\n",
       "      <th>13</th>\n",
       "      <td>1ZXOI6</td>\n",
       "      <td>new</td>\n",
       "    </tr>\n",
       "    <tr>\n",
       "      <th>14</th>\n",
       "      <td>1ZXOI6</td>\n",
       "      <td>new</td>\n",
       "    </tr>\n",
       "  </tbody>\n",
       "</table>\n",
       "</div>"
      ],
      "text/plain": [
       "     st_id test_grp\n",
       "0   1EYY37      old\n",
       "1   1N8MTZ      new\n",
       "2   1N8MTZ      new\n",
       "3   1N8MTZ      new\n",
       "4   1N8MTZ      new\n",
       "5   1N8MTZ      new\n",
       "6   1N8MTZ      new\n",
       "7   1N8MTZ      old\n",
       "8   1N8MTZ      old\n",
       "9   1N8MTZ      old\n",
       "10  1N8MTZ      old\n",
       "11  1ZXOI6      new\n",
       "12  1ZXOI6      new\n",
       "13  1ZXOI6      new\n",
       "14  1ZXOI6      new"
      ]
     },
     "execution_count": 34,
     "metadata": {},
     "output_type": "execute_result"
    }
   ],
   "source": [
    "# посмотрим на данные таблицы studs, из них видно, что строки с id студента не уникальны \n",
    "query_studs = '''SELECT * FROM default.studs'''\n",
    "q_studs_df = ph.read_clickhouse(query=query_studs, connection=connection_default) \n",
    "q_studs_df.head(15)"
   ]
  },
  {
   "cell_type": "code",
   "execution_count": 35,
   "metadata": {},
   "outputs": [
    {
     "data": {
      "text/html": [
       "<div>\n",
       "<style scoped>\n",
       "    .dataframe tbody tr th:only-of-type {\n",
       "        vertical-align: middle;\n",
       "    }\n",
       "\n",
       "    .dataframe tbody tr th {\n",
       "        vertical-align: top;\n",
       "    }\n",
       "\n",
       "    .dataframe thead th {\n",
       "        text-align: right;\n",
       "    }\n",
       "</style>\n",
       "<table border=\"1\" class=\"dataframe\">\n",
       "  <thead>\n",
       "    <tr style=\"text-align: right;\">\n",
       "      <th></th>\n",
       "      <th>students</th>\n",
       "    </tr>\n",
       "  </thead>\n",
       "  <tbody>\n",
       "    <tr>\n",
       "      <th>0</th>\n",
       "      <td>30</td>\n",
       "    </tr>\n",
       "  </tbody>\n",
       "</table>\n",
       "</div>"
      ],
      "text/plain": [
       "   students\n",
       "0        30"
      ]
     },
     "execution_count": 35,
     "metadata": {},
     "output_type": "execute_result"
    }
   ],
   "source": [
    "# В трех таблицах даны данные лишь об активных (платящих) пользователях, в этом легко убедиться - число уникальных пользователей\n",
    "# в таблицах по-отдельности совпадает с числом уникальных пользователей при соединении таблиц типом INNER JOIN.\n",
    "checks_peas = ph.read_clickhouse('''SELECT  count(DISTINCT(st_id)) as students\n",
    "FROM (SELECT * \n",
    "    FROM default.peas as A\n",
    "    JOIN default.final_project_check AS B\n",
    "    ON A.st_id = B.st_id\n",
    ")\n",
    "''', connection=connection_default)\n",
    "checks_peas"
   ]
  },
  {
   "cell_type": "code",
   "execution_count": 36,
   "metadata": {},
   "outputs": [
    {
     "data": {
      "text/html": [
       "<div>\n",
       "<style scoped>\n",
       "    .dataframe tbody tr th:only-of-type {\n",
       "        vertical-align: middle;\n",
       "    }\n",
       "\n",
       "    .dataframe tbody tr th {\n",
       "        vertical-align: top;\n",
       "    }\n",
       "\n",
       "    .dataframe thead th {\n",
       "        text-align: right;\n",
       "    }\n",
       "</style>\n",
       "<table border=\"1\" class=\"dataframe\">\n",
       "  <thead>\n",
       "    <tr style=\"text-align: right;\">\n",
       "      <th></th>\n",
       "      <th>students</th>\n",
       "    </tr>\n",
       "  </thead>\n",
       "  <tbody>\n",
       "    <tr>\n",
       "      <th>0</th>\n",
       "      <td>30</td>\n",
       "    </tr>\n",
       "  </tbody>\n",
       "</table>\n",
       "</div>"
      ],
      "text/plain": [
       "   students\n",
       "0        30"
      ]
     },
     "execution_count": 36,
     "metadata": {},
     "output_type": "execute_result"
    }
   ],
   "source": [
    "# При этом число уникальных id аналогичное и для таблиц final_project_check, peas, studs\n",
    "# Это уже позволяет говорить нам о том, что CR в покупку = CR активного пользователя в покупку = 1, ARPU = ARPAU, \n",
    "# т.к. имеется информация лишь об активных платящих пользователях\n",
    "checks = ph.read_clickhouse('''SELECT uniqExact(st_id) as students FROM default.final_project_check''', connection=connection_default)\n",
    "checks"
   ]
  },
  {
   "cell_type": "code",
   "execution_count": 37,
   "metadata": {},
   "outputs": [
    {
     "data": {
      "text/html": [
       "<div>\n",
       "<style scoped>\n",
       "    .dataframe tbody tr th:only-of-type {\n",
       "        vertical-align: middle;\n",
       "    }\n",
       "\n",
       "    .dataframe tbody tr th {\n",
       "        vertical-align: top;\n",
       "    }\n",
       "\n",
       "    .dataframe thead th {\n",
       "        text-align: right;\n",
       "    }\n",
       "</style>\n",
       "<table border=\"1\" class=\"dataframe\">\n",
       "  <thead>\n",
       "    <tr style=\"text-align: right;\">\n",
       "      <th></th>\n",
       "      <th>students</th>\n",
       "    </tr>\n",
       "  </thead>\n",
       "  <tbody>\n",
       "    <tr>\n",
       "      <th>0</th>\n",
       "      <td>30</td>\n",
       "    </tr>\n",
       "  </tbody>\n",
       "</table>\n",
       "</div>"
      ],
      "text/plain": [
       "   students\n",
       "0        30"
      ]
     },
     "execution_count": 37,
     "metadata": {},
     "output_type": "execute_result"
    }
   ],
   "source": [
    "peas = ph.read_clickhouse('''SELECT uniqExact(st_id) as students FROM default.peas''', connection=connection_default)\n",
    "peas"
   ]
  },
  {
   "cell_type": "code",
   "execution_count": 38,
   "metadata": {},
   "outputs": [
    {
     "data": {
      "text/html": [
       "<div>\n",
       "<style scoped>\n",
       "    .dataframe tbody tr th:only-of-type {\n",
       "        vertical-align: middle;\n",
       "    }\n",
       "\n",
       "    .dataframe tbody tr th {\n",
       "        vertical-align: top;\n",
       "    }\n",
       "\n",
       "    .dataframe thead th {\n",
       "        text-align: right;\n",
       "    }\n",
       "</style>\n",
       "<table border=\"1\" class=\"dataframe\">\n",
       "  <thead>\n",
       "    <tr style=\"text-align: right;\">\n",
       "      <th></th>\n",
       "      <th>students</th>\n",
       "    </tr>\n",
       "  </thead>\n",
       "  <tbody>\n",
       "    <tr>\n",
       "      <th>0</th>\n",
       "      <td>30</td>\n",
       "    </tr>\n",
       "  </tbody>\n",
       "</table>\n",
       "</div>"
      ],
      "text/plain": [
       "   students\n",
       "0        30"
      ]
     },
     "execution_count": 38,
     "metadata": {},
     "output_type": "execute_result"
    }
   ],
   "source": [
    "studs_peas = ph.read_clickhouse('''SELECT  count(DISTINCT(st_id)) as students\n",
    "FROM (SELECT * \n",
    "    FROM default.peas as A\n",
    "    JOIN default.studs AS B\n",
    "    ON A.st_id = B.st_id\n",
    ")\n",
    "''', connection=connection_default)\n",
    "studs_peas"
   ]
  },
  {
   "cell_type": "code",
   "execution_count": 39,
   "metadata": {},
   "outputs": [
    {
     "data": {
      "text/html": [
       "<div>\n",
       "<style scoped>\n",
       "    .dataframe tbody tr th:only-of-type {\n",
       "        vertical-align: middle;\n",
       "    }\n",
       "\n",
       "    .dataframe tbody tr th {\n",
       "        vertical-align: top;\n",
       "    }\n",
       "\n",
       "    .dataframe thead th {\n",
       "        text-align: right;\n",
       "    }\n",
       "</style>\n",
       "<table border=\"1\" class=\"dataframe\">\n",
       "  <thead>\n",
       "    <tr style=\"text-align: right;\">\n",
       "      <th></th>\n",
       "      <th>ARPAU</th>\n",
       "      <th>ARPU</th>\n",
       "      <th>CR_active_to_buy</th>\n",
       "      <th>CR_math</th>\n",
       "    </tr>\n",
       "  </thead>\n",
       "  <tbody>\n",
       "    <tr>\n",
       "      <th>0</th>\n",
       "      <td>114500.0</td>\n",
       "      <td>114500.0</td>\n",
       "      <td>1.0</td>\n",
       "      <td>1.0</td>\n",
       "    </tr>\n",
       "  </tbody>\n",
       "</table>\n",
       "</div>"
      ],
      "text/plain": [
       "      ARPAU      ARPU  CR_active_to_buy  CR_math\n",
       "0  114500.0  114500.0               1.0      1.0"
      ]
     },
     "execution_count": 39,
     "metadata": {},
     "output_type": "execute_result"
    }
   ],
   "source": [
    "metrics = '''WITH (SELECT uniqExact(st_id) FROM default.final_project_check) as active_users,\n",
    "    (SELECT sum(money) FROM default.final_project_check) as revenue,\n",
    "    (SELECT uniqExact(st_id) FROM default.studs) as users,\n",
    "    (SELECT uniqExact(st_id) FROM default.peas WHERE subject ='Math') as users_math,\n",
    "    (SELECT uniqExact(st_id) FROM default.final_project_check WHERE subject ='Math') as active_math\n",
    "\n",
    "SELECT  revenue/active_users as ARPAU, \n",
    "        revenue/users as ARPU, \n",
    "        active_users/users as CR_active_to_buy,\n",
    "        active_math/users_math as CR_math'''\n",
    "metriq_df = ph.read_clickhouse(query = metrics, connection=connection_default)\n",
    "metriq_df"
   ]
  },
  {
   "cell_type": "code",
   "execution_count": 40,
   "metadata": {},
   "outputs": [],
   "source": [
    "#                                               Задание 3"
   ]
  },
  {
   "cell_type": "code",
   "execution_count": 41,
   "metadata": {},
   "outputs": [],
   "source": [
    "path_to_additional = '/home/jupyter-i.gorodnichev-15/files_for_project/Проект_2_group_add.csv' # путь дополнительного файла"
   ]
  },
  {
   "cell_type": "code",
   "execution_count": 42,
   "metadata": {},
   "outputs": [],
   "source": [
    "def additional(path):\n",
    "    df = pd.read_csv(path_to_additional, sep = ',', encoding = 'utf-8') # считываем дополнительный файл\n",
    "    added_df = pd.concat([groups_df, df]).reset_index(drop = True) # соединяем счиатнный файл с датафреймом, \n",
    "    # содержащим аналогичную по типу информацию\n",
    "    \n",
    "    users = added_df.shape[0] # считаем общее число пользователей, пригодится для расчета метрик \n",
    "    \n",
    "    # создадим датафреймы для того, чтобы можно было считать метрики и затем смотреть их распределение по группам пользователей\n",
    "    active_payable_users = info_df.merge(right = cheks_df, on = 'student_id', how = 'inner').merge(how = 'left', right = added_df, left_on = 'student_id', right_on = 'id')\n",
    "    active = info_df\n",
    "    payable = cheks_df\n",
    "    active = active.merge(how = 'left', right = added_df, left_on = 'student_id', right_on = 'id') # при объединении получаем \n",
    "    # информацию о разделении пользователей на группы\n",
    "    payable = payable.merge(how = 'left', right = added_df, left_on = 'student_id', right_on = 'id')\n",
    "    \n",
    "    active_payable_users['CR_active_to_buy'] = 1/users # для расчета реального СР будем суммировать данные в ячейках \n",
    "    payable['CR_to_buy'] = 1/users\n",
    "    payable['ARPU'] = payable['rev']/users\n",
    "    payable['ARPAU'] = payable['rev']/active.shape[0]\n",
    "    \n",
    "    ARPU = payable['ARPU'].sum() #  считаем метрики\n",
    "    ARPAU =  payable['ARPAU'].sum()\n",
    "    CR_to_buy = payable['CR_to_buy'].sum()\n",
    "    CR_active_to_buy = active_payable_users['CR_active_to_buy'].sum()\n",
    "    \n",
    "    return f'ARPU = {ARPU}, ARPAU = {ARPAU}, CR_to_buy = {CR_to_buy}, CR_active_to_buy = {CR_active_to_buy}'"
   ]
  },
  {
   "cell_type": "code",
   "execution_count": 43,
   "metadata": {},
   "outputs": [
    {
     "data": {
      "text/plain": [
       "'ARPU = 7.687808458485304, ARPAU = 68.7358834192543, CR_to_buy = 0.007254344561252951, CR_active_to_buy = 0.00525638275048273'"
      ]
     },
     "execution_count": 43,
     "metadata": {},
     "output_type": "execute_result"
    }
   ],
   "source": [
    "additional(path_to_additional)"
   ]
  },
  {
   "cell_type": "code",
   "execution_count": 59,
   "metadata": {},
   "outputs": [],
   "source": [
    "# данная функция во многом будет копировать предыдущую\n",
    "def plots():\n",
    "    df = pd.read_csv(path_to_additional, sep = ',', encoding = 'utf-8') # считываем дополнительный файл\n",
    "    added_df = pd.concat([groups_df, df]).reset_index(drop = True) # соединяем счиатнный файл с датафреймом, \n",
    "    # содержащим аналогичную по типу информацию\n",
    "    \n",
    "    users = added_df.shape[0] # считаем общее число пользователей, пригодится для расчета метрик \n",
    "    \n",
    "    # создадим датафреймы для того, чтобы можно было считать метрики и затем смотреть их распределение по группам пользователей\n",
    "    active_payable_users = info_df.merge(right = cheks_df, on = 'student_id', how = 'inner').merge(how = 'left', right = added_df, left_on = 'student_id', right_on = 'id')\n",
    "    active = info_df\n",
    "    payable = cheks_df\n",
    "    active = active.merge(how = 'left', right = added_df, left_on = 'student_id', right_on = 'id') # при объединении получаем \n",
    "    # информацию о разделении пользователей на группы\n",
    "    payable = payable.merge(how = 'left', right = added_df, left_on = 'student_id', right_on = 'id')\n",
    "    \n",
    "    active_payable_users['CR_active_to_buy'] = 1/users # для расчета реального СР будем суммировать данные в ячейках \n",
    "    payable['CR_to_buy'] = 1/users\n",
    "    payable['ARPU'] = payable['rev']/users\n",
    "    payable['ARPAU'] = payable['rev']/active.shape[0]\n",
    "    \n",
    "    payable = payable.rename(columns = {'grp': 'group'})\n",
    "    active_payable_users = active_payable_users.rename(columns = {'grp': 'group'})\n",
    "    \n",
    "    # на основе данных можно посмотреть различие метрик по группам \n",
    "    plt.subplot(1,3,1)\n",
    "    ARPU = sns.barplot(data = payable, x = 'group', y = 'ARPU', estimator=sum)\n",
    "    plt.subplot(1,3,3)\n",
    "    ARPAU = sns.barplot(data = payable, x = 'group', y = 'ARPAU', estimator=sum)\n",
    "    plt.show()\n",
    "    plt.subplot(1,3,1)\n",
    "    CR_to_buy = sns.barplot(data = payable, x = 'group', y = 'CR_to_buy', estimator=sum)\n",
    "    plt.subplot(1,3,3)\n",
    "    CR_active_to_buy = sns.barplot(data = active_payable_users, x = 'group', y = 'CR_active_to_buy', estimator=sum)\n",
    "    plt.show()"
   ]
  },
  {
   "cell_type": "code",
   "execution_count": 60,
   "metadata": {},
   "outputs": [
    {
     "data": {
      "image/png": "[encoded data removed]",
      "text/plain": [
       "<Figure size 432x288 with 2 Axes>"
      ]
     },
     "metadata": {
      "needs_background": "light"
     },
     "output_type": "display_data"
    },
    {
     "data": {
      "image/png": "[encoded data removed]",
      "text/plain": [
       "<Figure size 432x288 with 2 Axes>"
      ]
     },
     "metadata": {
      "needs_background": "light"
     },
     "output_type": "display_data"
    }
   ],
   "source": [
    "plots()"
   ]
  },
  {
   "cell_type": "code",
   "execution_count": 65,
   "metadata": {},
   "outputs": [
    {
     "data": {
      "text/plain": [
       "B    59883\n",
       "A    14693\n",
       "Name: grp, dtype: int64"
      ]
     },
     "execution_count": 65,
     "metadata": {},
     "output_type": "execute_result"
    }
   ],
   "source": [
    "df = pd.read_csv(path_to_additional, sep = ',', encoding = 'utf-8') # считываем дополнительный файл\n",
    "added_df = pd.concat([groups_df, df]).reset_index(drop = True) # соединяем счиатнный файл с датафреймом,\n",
    "added_df['grp'].value_counts()"
   ]
  },
  {
   "cell_type": "code",
   "execution_count": 66,
   "metadata": {},
   "outputs": [
    {
     "data": {
      "text/plain": [
       "B    6803\n",
       "A    1538\n",
       "Name: grp, dtype: int64"
      ]
     },
     "execution_count": 66,
     "metadata": {},
     "output_type": "execute_result"
    }
   ],
   "source": [
    "active_payable_users = info_df.merge(right = cheks_df, on = 'student_id', how = 'inner').merge(how = 'left', right = added_df, left_on = 'student_id', right_on = 'id')\n",
    "active = info_df\n",
    "payable = cheks_df\n",
    "active = active.merge(how = 'left', right = added_df, left_on = 'student_id', right_on = 'id') # при объединении получаем \n",
    "# информацию о разделении пользователей на группы\n",
    "payable = payable.merge(how = 'left', right = added_df, left_on = 'student_id', right_on = 'id')\n",
    "active['grp'].value_counts()"
   ]
  },
  {
   "cell_type": "code",
   "execution_count": 67,
   "metadata": {},
   "outputs": [
    {
     "data": {
      "text/plain": [
       "B    434\n",
       "A    107\n",
       "Name: grp, dtype: int64"
      ]
     },
     "execution_count": 67,
     "metadata": {},
     "output_type": "execute_result"
    }
   ],
   "source": [
    "payable['grp'].value_counts()"
   ]
  },
  {
   "cell_type": "code",
   "execution_count": 68,
   "metadata": {},
   "outputs": [
    {
     "data": {
      "text/plain": [
       "B    314\n",
       "A     78\n",
       "Name: grp, dtype: int64"
      ]
     },
     "execution_count": 68,
     "metadata": {},
     "output_type": "execute_result"
    }
   ],
   "source": [
    "active_payable_users['grp'].value_counts()"
   ]
  },
  {
   "cell_type": "code",
   "execution_count": null,
   "metadata": {},
   "outputs": [],
   "source": [
    "# исходя из графиков, что показаны выше, видно, что метрики для группы Б выше, чем для А. Однако также заметно, что количество\n",
    "# собранной для группы А информации почти в 4 раза меньше, чем для группы Б. Большее колчество пользователей из другой группы, \n",
    "# и, соответственно, информации об их платежах завышает показатели метрик при рассмотрении их относительно разных групп.\n",
    "# Такая диспропорция в делении пользователей на группы могла повлиять также на результаты АБ-теста, сделав выводы о его \n",
    "# результатах неверными. "
   ]
  }
 ],
 "metadata": {
  "kernelspec": {
   "display_name": "Python 3",
   "language": "python",
   "name": "python3"
  },
  "language_info": {
   "codemirror_mode": {
    "name": "ipython",
    "version": 3
   },
   "file_extension": ".py",
   "mimetype": "text/x-python",
   "name": "python",
   "nbconvert_exporter": "python",
   "pygments_lexer": "ipython3",
   "version": "3.7.3"
  }
 },
 "nbformat": 4,
 "nbformat_minor": 4
}
