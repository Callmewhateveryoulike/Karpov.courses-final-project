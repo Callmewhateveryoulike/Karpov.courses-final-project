{
 "cells": [
  {
   "cell_type": "code",
   "execution_count": 1,
   "metadata": {},
   "outputs": [],
   "source": [
    "import pandas as pd\n",
    "import scipy.stats as st\n",
    "from tqdm import tqdm\n",
    "import seaborn as sns \n",
    "import matplotlib.pyplot as plt\n",
    "import pandahouse as ph\n",
    "import numpy as np"
   ]
  },
  {
   "cell_type": "code",
   "execution_count": 2,
   "metadata": {},
   "outputs": [],
   "source": [
    "#                                                   Задание 1"
   ]
  },
  {
   "cell_type": "code",
   "execution_count": 2,
   "metadata": {},
   "outputs": [],
   "source": [
    "groups_df = pd.read_csv(r'/home/jupyter-i.gorodnichev-15/files_for_project/Проект_2_groups.csv', sep=';',\n",
    "                        encoding='utf-8') \n",
    "# судя по всему, файлы неправильно были сохранены в csv формат, из-за чего некоторые строки не считываются корректно,\n",
    "# т.к. при их просмотре в  текстовом редакторе каких-либо ошибок не видно. Можно пересохранить их или игнорировать \n",
    "# строки, вызывающие ошибку (параметр error_bad_lines метода read_csv должен быть равен False).\n",
    "\n",
    "info_df = pd.read_csv(r'/home/jupyter-i.gorodnichev-15/files_for_project/Проект_2_active_studs.csv', sep=';',\n",
    "                      encoding='utf-8')\n",
    "\n",
    "cheks_df = pd.read_csv(r'/home/jupyter-i.gorodnichev-15/files_for_project/Проект_2_checks.csv', sep=';',\n",
    "                       encoding='utf-8')"
   ]
  },
  {
   "cell_type": "code",
   "execution_count": 4,
   "metadata": {},
   "outputs": [
    {
     "data": {
      "text/plain": [
       "id     0\n",
       "grp    0\n",
       "dtype: int64"
      ]
     },
     "execution_count": 4,
     "metadata": {},
     "output_type": "execute_result"
    }
   ],
   "source": [
    "# проверим данные на предмет пустых значений \n",
    "groups_df.isna().sum()"
   ]
  },
  {
   "cell_type": "code",
   "execution_count": 5,
   "metadata": {},
   "outputs": [
    {
     "data": {
      "text/plain": [
       "student_id    0\n",
       "dtype: int64"
      ]
     },
     "execution_count": 5,
     "metadata": {},
     "output_type": "execute_result"
    }
   ],
   "source": [
    "info_df.isna().sum()"
   ]
  },
  {
   "cell_type": "code",
   "execution_count": 6,
   "metadata": {},
   "outputs": [
    {
     "data": {
      "text/plain": [
       "student_id    0\n",
       "rev           0\n",
       "dtype: int64"
      ]
     },
     "execution_count": 6,
     "metadata": {},
     "output_type": "execute_result"
    }
   ],
   "source": [
    "cheks_df.isna().sum()"
   ]
  },
  {
   "cell_type": "code",
   "execution_count": 7,
   "metadata": {},
   "outputs": [
    {
     "data": {
      "text/plain": [
       "student_id    0.0\n",
       "rev           0.0\n",
       "dtype: float64"
      ]
     },
     "execution_count": 7,
     "metadata": {},
     "output_type": "execute_result"
    }
   ],
   "source": [
    "# посмотрим, есть ли повторные покупки у одного и того же пользователя\n",
    "# это позволит говорить о независимости выборок при делении на группы\n",
    "cheks_df[cheks_df['student_id'].duplicated() == True].sum()"
   ]
  },
  {
   "cell_type": "code",
   "execution_count": 8,
   "metadata": {},
   "outputs": [
    {
     "data": {
      "text/plain": [
       "B    6793\n",
       "A    1535\n",
       "Name: grp, dtype: int64"
      ]
     },
     "execution_count": 8,
     "metadata": {},
     "output_type": "execute_result"
    }
   ],
   "source": [
    "# Проверим, как разделились активные пользователи по группам\n",
    "active_gr = groups_df.merge(right=info_df, how='inner', left_on='id', right_on='student_id')\n",
    "active_gr['grp'].value_counts()"
   ]
  },
  {
   "cell_type": "code",
   "execution_count": 9,
   "metadata": {},
   "outputs": [
    {
     "data": {
      "text/plain": [
       "B    59813\n",
       "A    14671\n",
       "Name: grp, dtype: int64"
      ]
     },
     "execution_count": 9,
     "metadata": {},
     "output_type": "execute_result"
    }
   ],
   "source": [
    "# Посмотрим на изначальное распределение по группам\n",
    "groups_df['grp'].value_counts()"
   ]
  },
  {
   "cell_type": "code",
   "execution_count": 10,
   "metadata": {},
   "outputs": [],
   "source": [
    "# Из этого распределения видно, что изначальное количество пользователей из группы Б\n",
    "# примерно в 4 раза выше, чем число пользователей из группы А. Возможно была неправильно \n",
    "# настроена система сплитования."
   ]
  },
  {
   "cell_type": "code",
   "execution_count": 11,
   "metadata": {
    "scrolled": true
   },
   "outputs": [
    {
     "data": {
      "text/plain": [
       "B    433\n",
       "A    107\n",
       "Name: grp, dtype: int64"
      ]
     },
     "execution_count": 11,
     "metadata": {},
     "output_type": "execute_result"
    }
   ],
   "source": [
    "# Посмотрим на распределение по группам платящих пользователей\n",
    "groups_checks = groups_df.merge(right=cheks_df, how='inner', left_on='id', right_on='student_id')\n",
    "groups_checks['grp'].value_counts()"
   ]
  },
  {
   "cell_type": "code",
   "execution_count": 12,
   "metadata": {},
   "outputs": [
    {
     "data": {
      "text/plain": [
       "392"
      ]
     },
     "execution_count": 12,
     "metadata": {},
     "output_type": "execute_result"
    }
   ],
   "source": [
    "# Посмотрим на число активных платящих пользователей\n",
    "checks_info = cheks_df.merge(right=info_df, how='inner', on='student_id')\n",
    "checks_info.shape[0]"
   ]
  },
  {
   "cell_type": "code",
   "execution_count": 13,
   "metadata": {},
   "outputs": [],
   "source": [
    "# на основе разницы количеств платящих пользователей и активных платящих, видно, что была группа пользователей, \n",
    "# которые заплатили, но не были отмечены, как активные. Либо они не были зарегистрированы, как активные,\n",
    "# по ошибке, либо они решили приобрести какой-либо курс во время проведения эксперимента, но \n",
    "# не проявляли после его покупки активность. Можно провести АБ-тест и только для активных платящих \n",
    "# пользователей, и для них + платящих, что не были засчитаны как активные. "
   ]
  },
  {
   "cell_type": "code",
   "execution_count": 14,
   "metadata": {},
   "outputs": [],
   "source": [
    "# в качестве метрик, проверяемых АБ-тестом можно рассмотреть средний чек пользователя как показатель \n",
    "# того, сколько прибыли приносит та или иная группа, и конверсию.\n",
    "# В данном случае средний чек - это среднее данных об оплате (столбец \"rev\"), т.к. один и тот же  \n",
    "# пользователь не совершал повторных покупок, а число всех оплат и есть число чеков. \n",
    "# Конверсию также стоит рассмотреть, т.к. при даже при более низком ее значении средний чек \n",
    "# может быть выше из-за крупных покупок некоторых пользователей (это не обязательно будет зарегистрировано \n",
    "# как выброс), а само по себе понижение конверсииничем хорошим не является. \n",
    "# Помимо этого в количестве данных для групп А и Б наблюдается диспропорция, которая может \n",
    "# быть причиной искажения результатов."
   ]
  },
  {
   "cell_type": "code",
   "execution_count": 68,
   "metadata": {},
   "outputs": [],
   "source": [
    "# АБ-тест только для активных платящих "
   ]
  },
  {
   "cell_type": "code",
   "execution_count": 3,
   "metadata": {},
   "outputs": [],
   "source": [
    "# получим данные о чеках активных платящих во время теста пользователей, которые отнесены к какой-либо группе \n",
    "merged_checks = cheks_df.merge(right=info_df, how='inner', on='student_id')\n",
    "    .merge(right=groups_df, how='inner', left_on='student_id', right_on='id') \n",
    "merged_checks = merged_checks.drop(columns='id')  # удалим лишнюю колонку \n",
    "group_A = merged_checks[merged_checks['grp'] == 'A'].reset_index(drop=True)  # переназначим index \n",
    "group_B = merged_checks[merged_checks['grp'] == 'B'].reset_index(drop=True)  # переназначим index"
   ]
  },
  {
   "cell_type": "code",
   "execution_count": 15,
   "metadata": {
    "scrolled": true
   },
   "outputs": [
    {
     "data": {
      "text/plain": [
       "<matplotlib.axes._subplots.AxesSubplot at 0x7f3026ba8860>"
      ]
     },
     "execution_count": 15,
     "metadata": {},
     "output_type": "execute_result"
    },
    {
     "data": {
      "image/png": "[encoded data removed]",
      "text/plain": [
       "<Figure size 432x288 with 1 Axes>"
      ]
     },
     "metadata": {
      "needs_background": "light"
     },
     "output_type": "display_data"
    }
   ],
   "source": [
    "sns.boxplot(data=group_A['rev'])  # проверим данные об оплате на наличие выбросов"
   ]
  },
  {
   "cell_type": "code",
   "execution_count": 16,
   "metadata": {},
   "outputs": [],
   "source": [
    "# имеются выбросы, что может исказить результаты Т-теста "
   ]
  },
  {
   "cell_type": "code",
   "execution_count": 17,
   "metadata": {},
   "outputs": [
    {
     "data": {
      "text/plain": [
       "ShapiroResult(statistic=0.7353236079216003, pvalue=1.4986822893803264e-10)"
      ]
     },
     "execution_count": 17,
     "metadata": {},
     "output_type": "execute_result"
    }
   ],
   "source": [
    "st.shapiro(x=group_A['rev'])  # проверка на нормальность распределения данных о платежах \n",
    "# распределение нельзя считать нормальным, поэтому для АА-теста лучше не использовать Т-тест "
   ]
  },
  {
   "cell_type": "code",
   "execution_count": 18,
   "metadata": {
    "scrolled": false
   },
   "outputs": [
    {
     "data": {
      "text/plain": [
       "<seaborn.axisgrid.FacetGrid at 0x7f3026ac91d0>"
      ]
     },
     "execution_count": 18,
     "metadata": {},
     "output_type": "execute_result"
    },
    {
     "data": {
      "image/png": "[encoded data removed]",
      "text/plain": [
       "<Figure size 360x360 with 1 Axes>"
      ]
     },
     "metadata": {
      "needs_background": "light"
     },
     "output_type": "display_data"
    }
   ],
   "source": [
    "sns.displot(x=group_A['rev'], kde=True)  # распределение данных в группе А "
   ]
  },
  {
   "cell_type": "code",
   "execution_count": 19,
   "metadata": {},
   "outputs": [
    {
     "data": {
      "text/plain": [
       "ShapiroResult(statistic=0.8551987409591675, pvalue=1.756778758085431e-16)"
      ]
     },
     "execution_count": 19,
     "metadata": {},
     "output_type": "execute_result"
    }
   ],
   "source": [
    "# Посмотрим на соответствие данных в выборке для группы Б нормальному распределению\n",
    "st.shapiro(x=group_B['rev'])"
   ]
  },
  {
   "cell_type": "code",
   "execution_count": 20,
   "metadata": {},
   "outputs": [
    {
     "data": {
      "text/plain": [
       "<seaborn.axisgrid.FacetGrid at 0x7f3024d7f860>"
      ]
     },
     "execution_count": 20,
     "metadata": {},
     "output_type": "execute_result"
    },
    {
     "data": {
      "image/png": "[encoded data removed]",
      "text/plain": [
       "<Figure size 360x360 with 1 Axes>"
      ]
     },
     "metadata": {
      "needs_background": "light"
     },
     "output_type": "display_data"
    }
   ],
   "source": [
    "sns.displot(x=group_B['rev'], kde=True)  # распределение данных в группе Б\n",
    "# по результатам теста и по графику видно, что распределение сильно отклоняется от нормального "
   ]
  },
  {
   "cell_type": "code",
   "execution_count": 21,
   "metadata": {},
   "outputs": [],
   "source": [
    "# распределения нельзя считать нормальными \n",
    "# предполагается использовать U-тест Манна-Уитни для двух независимых выборок (мы принимаем, что выборки такие, \n",
    "# т.к. выбранные значения не возвращаются в исходный массив данных, а повторных данных от одного пользователя \n",
    "# не поступало)"
   ]
  },
  {
   "cell_type": "code",
   "execution_count": 22,
   "metadata": {},
   "outputs": [
    {
     "data": {
      "text/plain": [
       "LeveneResult(statistic=3.0558643506726035, pvalue=0.08123509393501775)"
      ]
     },
     "execution_count": 22,
     "metadata": {},
     "output_type": "execute_result"
    }
   ],
   "source": [
    "st.levene(group_A['rev'], group_B['rev'])  # проверка на гомогенность дисперсии \n",
    "# дисперсии можно признать равными "
   ]
  },
  {
   "cell_type": "code",
   "execution_count": 23,
   "metadata": {},
   "outputs": [
    {
     "data": {
      "text/plain": [
       "MannwhitneyuResult(statistic=8990.0, pvalue=0.000273244700505943)"
      ]
     },
     "execution_count": 23,
     "metadata": {},
     "output_type": "execute_result"
    }
   ],
   "source": [
    "# проведем непараметрический тест Манна-Уитни для АБ-теста (выбран, т.к. распределение выборок \n",
    "# не соответствует нормальному). \n",
    "st.mannwhitneyu(group_A['rev'], group_B['rev'])"
   ]
  },
  {
   "cell_type": "code",
   "execution_count": 24,
   "metadata": {},
   "outputs": [
    {
     "data": {
      "text/plain": [
       "<matplotlib.legend.Legend at 0x7f3024d4a198>"
      ]
     },
     "execution_count": 24,
     "metadata": {},
     "output_type": "execute_result"
    },
    {
     "data": {
      "image/png": "[encoded data removed]",
      "text/plain": [
       "<Figure size 432x288 with 1 Axes>"
      ]
     },
     "metadata": {
      "needs_background": "light"
     },
     "output_type": "display_data"
    }
   ],
   "source": [
    "# Построим боксплот для наглядности \n",
    "ax = sns.boxplot(data=merged_checks, hue='grp', y='rev', x='grp')\n",
    "plt.legend(loc='center right', bbox_to_anchor=(1.2, 0.5))  # переместим легенду для более удобного отображения "
   ]
  },
  {
   "cell_type": "code",
   "execution_count": 25,
   "metadata": {},
   "outputs": [],
   "source": [
    "# Согласно тесту Манна-Уитни группа А значимо отличается от группы Б, однако при визуализации \n",
    "# заметно, что в данных есть выбросы\n",
    "# возможно стоит проверить, как они влияют на результат (хотя непараметрический тест не так \n",
    "# сильно подвержден влиянию выбросов) "
   ]
  },
  {
   "cell_type": "code",
   "execution_count": 26,
   "metadata": {},
   "outputs": [
    {
     "data": {
      "text/plain": [
       "0     4650.0\n",
       "1     3660.0\n",
       "2     3660.0\n",
       "3     3260.0\n",
       "4     3040.0\n",
       "5     2910.0\n",
       "6     2910.0\n",
       "7     2890.0\n",
       "8     2890.0\n",
       "9     2890.0\n",
       "10    2220.0\n",
       "11    2190.0\n",
       "12    2099.0\n",
       "13    2099.0\n",
       "14    2099.0\n",
       "Name: rev, dtype: float64"
      ]
     },
     "execution_count": 26,
     "metadata": {},
     "output_type": "execute_result"
    }
   ],
   "source": [
    "drops_B = group_B['rev'].sort_values(ascending=False).reset_index(drop=True)  # отсортируем значения и \n",
    "# переназначим индексы для более удобного поиска выбросов\n",
    "drops_B.head(15)  # как видно из боксплота, для группы Б выбросом является значение, превышающее 4000, \n",
    "# в данных такое значение только одно - 4650"
   ]
  },
  {
   "cell_type": "code",
   "execution_count": 27,
   "metadata": {},
   "outputs": [
    {
     "data": {
      "text/plain": [
       "1      3660.0\n",
       "2      3660.0\n",
       "3      3260.0\n",
       "4      3040.0\n",
       "5      2910.0\n",
       "        ...  \n",
       "308     199.0\n",
       "309     199.0\n",
       "310     199.0\n",
       "311     199.0\n",
       "312     199.0\n",
       "Name: rev, Length: 312, dtype: float64"
      ]
     },
     "execution_count": 27,
     "metadata": {},
     "output_type": "execute_result"
    }
   ],
   "source": [
    "drops_B = drops_B.drop(index=0)  # удаляем выброс\n",
    "drops_B"
   ]
  },
  {
   "cell_type": "code",
   "execution_count": 28,
   "metadata": {},
   "outputs": [
    {
     "data": {
      "text/plain": [
       "0     3660.0\n",
       "1     3660.0\n",
       "2     3660.0\n",
       "3     2910.0\n",
       "4     2910.0\n",
       "5     2900.0\n",
       "6     2890.0\n",
       "7     2820.0\n",
       "8     2820.0\n",
       "9     2220.0\n",
       "10    1980.0\n",
       "11    1830.0\n",
       "12    1530.0\n",
       "13    1530.0\n",
       "14    1530.0\n",
       "Name: rev, dtype: float64"
      ]
     },
     "execution_count": 28,
     "metadata": {},
     "output_type": "execute_result"
    }
   ],
   "source": [
    "drops_A = group_A['rev'].sort_values(ascending=False).reset_index(drop=True)  # отсортируем значения и \n",
    "# переназначим индексы для более удобного поиска и удаления выбросов\n",
    "drops_A.head(15)  # судя по боксплоту для группы А выбросами являются значения, превышающие примерно 2300, \n",
    "# избавимся от них"
   ]
  },
  {
   "cell_type": "code",
   "execution_count": 29,
   "metadata": {},
   "outputs": [
    {
     "data": {
      "text/plain": [
       "9     2220.0\n",
       "10    1980.0\n",
       "11    1830.0\n",
       "12    1530.0\n",
       "13    1530.0\n",
       "       ...  \n",
       "73     199.0\n",
       "74     199.0\n",
       "75     199.0\n",
       "76     199.0\n",
       "77     199.0\n",
       "Name: rev, Length: 69, dtype: float64"
      ]
     },
     "execution_count": 29,
     "metadata": {},
     "output_type": "execute_result"
    }
   ],
   "source": [
    "drops_A = drops_A[drops_A < 2500]  # избавимся от выбросов \n",
    "drops_A"
   ]
  },
  {
   "cell_type": "code",
   "execution_count": 30,
   "metadata": {},
   "outputs": [
    {
     "data": {
      "text/plain": [
       "MannwhitneyuResult(statistic=15301.5, pvalue=2.9795874499994477e-08)"
      ]
     },
     "execution_count": 30,
     "metadata": {},
     "output_type": "execute_result"
    }
   ],
   "source": [
    "st.mannwhitneyu(drops_B, drops_A)  # теперь посмотрим, как одновременное удаление выбросов из \n",
    "# групп А и Б влияет на результат "
   ]
  },
  {
   "cell_type": "code",
   "execution_count": 31,
   "metadata": {},
   "outputs": [],
   "source": [
    "# После удаления выбросов из обеих групп результат теста все равно говорит о статистически значимых \n",
    "# различиях между группами при оценке среднего чека среди активных платящих пользователей."
   ]
  },
  {
   "cell_type": "code",
   "execution_count": 32,
   "metadata": {},
   "outputs": [],
   "source": [
    "# теперь проведем тест для конверсии в покупку среди активных платящих пользователей."
   ]
  },
  {
   "cell_type": "code",
   "execution_count": 34,
   "metadata": {},
   "outputs": [],
   "source": [
    "# создадим столбец с отметкой о том, сконвертировался ли пользователь или нет\n",
    "CR_active = info_df.merge(right=cheks_df, how='inner', on='student_id')\n",
    "    .merge(right=groups_df, left_on='student_id', right_on='id', how='outer')\n",
    "CR_active['is_converted'] = pd.cut(x=CR_active['rev'], bins=[-1, 0, max(CR_active['rev'])], labels=[0, 1])\n",
    "    .fillna(0)\n",
    "CR_active['is_converted'] = CR_active['is_converted'].astype('Int32')"
   ]
  },
  {
   "cell_type": "code",
   "execution_count": 35,
   "metadata": {},
   "outputs": [],
   "source": [
    "# создадим две выборки для разных групп\n",
    "CR_active_A = CR_active[CR_active['grp'] == 'A']\n",
    "CR_active_B = CR_active[CR_active['grp'] == 'B']"
   ]
  },
  {
   "cell_type": "code",
   "execution_count": 36,
   "metadata": {},
   "outputs": [
    {
     "data": {
      "text/plain": [
       "LeveneResult(statistic=0.015780755561465923, pvalue=0.9000319002273636)"
      ]
     },
     "execution_count": 36,
     "metadata": {},
     "output_type": "execute_result"
    }
   ],
   "source": [
    "# проверка на гомогенносить дисперсий\n",
    "st.levene(CR_active_A['is_converted'], CR_active_B['is_converted'])"
   ]
  },
  {
   "cell_type": "code",
   "execution_count": 37,
   "metadata": {},
   "outputs": [
    {
     "data": {
      "text/plain": [
       "<matplotlib.axes._subplots.AxesSubplot at 0x7f3024cff278>"
      ]
     },
     "execution_count": 37,
     "metadata": {},
     "output_type": "execute_result"
    },
    {
     "data": {
      "image/png": "[encoded data removed]",
      "text/plain": [
       "<Figure size 432x288 with 1 Axes>"
      ]
     },
     "metadata": {
      "needs_background": "light"
     },
     "output_type": "display_data"
    }
   ],
   "source": [
    "# посмотрим на распределение в выборках\n",
    "sns.histplot(x=CR_active_A['is_converted'])"
   ]
  },
  {
   "cell_type": "code",
   "execution_count": 38,
   "metadata": {},
   "outputs": [
    {
     "data": {
      "text/plain": [
       "<matplotlib.axes._subplots.AxesSubplot at 0x7f3024c6dcf8>"
      ]
     },
     "execution_count": 38,
     "metadata": {},
     "output_type": "execute_result"
    },
    {
     "data": {
      "image/png": "[encoded data removed]",
      "text/plain": [
       "<Figure size 432x288 with 1 Axes>"
      ]
     },
     "metadata": {
      "needs_background": "light"
     },
     "output_type": "display_data"
    }
   ],
   "source": [
    "sns.histplot(x=CR_active_B['is_converted'])"
   ]
  },
  {
   "cell_type": "code",
   "execution_count": 39,
   "metadata": {},
   "outputs": [],
   "source": [
    "# выборки независимы, т.к. взяты данные о разных пользователях, а они предположительно делились\n",
    "# на группы случайно. Однако распределение у обоих выборок ненормальное (лишь значения 1 и 0),\n",
    "# поэтому использовать параметрические тесты не стоит.\n",
    "# Но для непараметрического теста Манна-Уитни нужно, чтобы в каждой выборке\n",
    "# не было большого числа повторяющихся значений. У нас их всего два - 1 и 0. \n",
    "# Поэтому применим бутстрап, используя при этом в качестве меры центральной тенденции среднее,\n",
    "# т.к. в данной ситуации нас интересует именно разность между мерацми центральной тенденции,\n",
    "# а использование среднего будет более наглядно и чувствительно к различиям, т.к. при использовании \n",
    "# медианы или моды  разностью мер будут нули (т.к. нулей больше намного, чем единицц), соответственно \n",
    "# на графике распределения разностей мер тенденции мы увидим лишь ноль. "
   ]
  },
  {
   "cell_type": "code",
   "execution_count": 40,
   "metadata": {},
   "outputs": [],
   "source": [
    "def get_bootstrap(\n",
    "    data_column_1,  # числовые значения первой выборки\n",
    "    data_column_2,  # числовые значения второй выборки\n",
    "    boot_it=1000,  # количество бутстрэп-подвыборок\n",
    "    statistic=np.mean,  # интересующая нас статистика\n",
    "    bootstrap_conf_level=0.95  # уровень значимости\n",
    "):\n",
    "    boot_len = max([len(data_column_1), len(data_column_2)])\n",
    "    boot_data = []\n",
    "    for i in tqdm(range(boot_it)):  # извлекаем подвыборки\n",
    "        samples_1 = data_column_1.sample(\n",
    "            boot_len, \n",
    "            replace=True  # возвращаем значения в выборку\n",
    "        ).values\n",
    "        \n",
    "        samples_2 = data_column_2.sample(\n",
    "            boot_len, \n",
    "            replace=True\n",
    "        ).values\n",
    "        \n",
    "        boot_data.append(statistic(samples_1) - statistic(samples_2))  # применяем статистику\n",
    "        \n",
    "    pd_boot_data = pd.DataFrame(boot_data)\n",
    "        \n",
    "    left_quant = (1 - bootstrap_conf_level) / 2\n",
    "    right_quant = 1 - (1 - bootstrap_conf_level) / 2\n",
    "    ci = pd_boot_data.quantile([left_quant, right_quant])  # доверительный интервал\n",
    "     \n",
    "    # Визуализация\n",
    "    plt.hist(pd_boot_data[0], bins=50)\n",
    "    \n",
    "    plt.style.use('ggplot')\n",
    "    plt.vlines(ci, ymin=0, ymax=50, linestyle='--')\n",
    "    plt.xlabel('boot_data')\n",
    "    plt.ylabel('frequency')\n",
    "    plt.title(\"Histogram of boot_data\")\n",
    "    plt.show()\n",
    "       \n",
    "    return ci"
   ]
  },
  {
   "cell_type": "code",
   "execution_count": 41,
   "metadata": {},
   "outputs": [
    {
     "name": "stderr",
     "output_type": "stream",
     "text": [
      "100%|██████████| 3000/3000 [00:20<00:00, 143.59it/s]\n"
     ]
    },
    {
     "data": {
      "image/png": "[encoded data removed]",
      "text/plain": [
       "<Figure size 432x288 with 1 Axes>"
      ]
     },
     "metadata": {
      "needs_background": "light"
     },
     "output_type": "display_data"
    },
    {
     "data": {
      "text/html": [
       "<div>\n",
       "<style scoped>\n",
       "    .dataframe tbody tr th:only-of-type {\n",
       "        vertical-align: middle;\n",
       "    }\n",
       "\n",
       "    .dataframe tbody tr th {\n",
       "        vertical-align: top;\n",
       "    }\n",
       "\n",
       "    .dataframe thead th {\n",
       "        text-align: right;\n",
       "    }\n",
       "</style>\n",
       "<table border=\"1\" class=\"dataframe\">\n",
       "  <thead>\n",
       "    <tr style=\"text-align: right;\">\n",
       "      <th></th>\n",
       "      <th>0</th>\n",
       "    </tr>\n",
       "  </thead>\n",
       "  <tbody>\n",
       "    <tr>\n",
       "      <th>0.025</th>\n",
       "      <td>-0.000719</td>\n",
       "    </tr>\n",
       "    <tr>\n",
       "      <th>0.975</th>\n",
       "      <td>0.000903</td>\n",
       "    </tr>\n",
       "  </tbody>\n",
       "</table>\n",
       "</div>"
      ],
      "text/plain": [
       "              0\n",
       "0.025 -0.000719\n",
       "0.975  0.000903"
      ]
     },
     "execution_count": 41,
     "metadata": {},
     "output_type": "execute_result"
    }
   ],
   "source": [
    "get_bootstrap(CR_active_A['is_converted'], CR_active_B['is_converted'], statistic=np.mean, boot_it=3000)"
   ]
  },
  {
   "cell_type": "code",
   "execution_count": 42,
   "metadata": {},
   "outputs": [],
   "source": [
    "# Т.к. ноль попадает в доверительный интервал, мы можем говорить о том, что \n",
    "# статистически значимого различия в конверсиях групп А и Б нет"
   ]
  },
  {
   "cell_type": "code",
   "execution_count": 43,
   "metadata": {},
   "outputs": [],
   "source": [
    "# теперь проведем тест для всех пользователей, что произвели оплату во время эксперимента"
   ]
  },
  {
   "cell_type": "code",
   "execution_count": 44,
   "metadata": {},
   "outputs": [],
   "source": [
    "payed_users = groups_df.merge(right=cheks_df, how='inner', left_on='id', right_on='student_id')"
   ]
  },
  {
   "cell_type": "code",
   "execution_count": 45,
   "metadata": {},
   "outputs": [
    {
     "data": {
      "text/plain": [
       "120"
      ]
     },
     "execution_count": 45,
     "metadata": {},
     "output_type": "execute_result"
    }
   ],
   "source": [
    "# посмотрим, какое распределение по группам у плативших, но не зарегестрированных в качестве \n",
    "# активных пользователей\n",
    "payed_users['grp'].value_counts()['B'] - merged_checks['grp'].value_counts()['B']"
   ]
  },
  {
   "cell_type": "code",
   "execution_count": 46,
   "metadata": {},
   "outputs": [
    {
     "data": {
      "text/plain": [
       "29"
      ]
     },
     "execution_count": 46,
     "metadata": {},
     "output_type": "execute_result"
    }
   ],
   "source": [
    "payed_users['grp'].value_counts()['A'] - merged_checks['grp'].value_counts()['A']"
   ]
  },
  {
   "cell_type": "code",
   "execution_count": 47,
   "metadata": {},
   "outputs": [],
   "source": [
    "# как видно, диспропорция (пользователей группы Б примерно в 4 раза больше, чем группы А)\n",
    "# сохраняется и здесь"
   ]
  },
  {
   "cell_type": "code",
   "execution_count": 48,
   "metadata": {},
   "outputs": [
    {
     "data": {
      "text/plain": [
       "Text(0.5, 1.0, 'payable')"
      ]
     },
     "execution_count": 48,
     "metadata": {},
     "output_type": "execute_result"
    },
    {
     "data": {
      "image/png": "[encoded data removed]",
      "text/plain": [
       "<Figure size 432x288 with 2 Axes>"
      ]
     },
     "metadata": {},
     "output_type": "display_data"
    }
   ],
   "source": [
    "# посмотрим на данные и наличие выбросов в них для платящих пользователей\n",
    "# и сравним с данными для активных платящих пользователей\n",
    "plt.subplot(1, 3, 1)\n",
    "sns.boxplot(data=merged_checks, hue='grp', y='rev', x='grp')\n",
    "plt.legend(loc='center right', bbox_to_anchor=(1.6, 0.5))\n",
    "plt.title(label='active_payable')\n",
    "plt.subplot(1, 3, 3)\n",
    "sns.boxplot(data=payed_users, hue='grp', y='rev', x='grp', hue_order=['A', 'B'], order=['A', 'B'])\n",
    "plt.legend(loc='center right', bbox_to_anchor=(1.6, 0.5))\n",
    "plt.title(label='payable')"
   ]
  },
  {
   "cell_type": "code",
   "execution_count": 49,
   "metadata": {},
   "outputs": [],
   "source": [
    "# как видно из сравнения данных для платящих и активных платящих пользователей\n",
    "# у активных платящих пользователей группы А \"усы\" боксплота выше, при этом значение 2 квартиля ниже, а\n",
    "# 3 выше, чем у платящих пользователей\n",
    "# выбросами считаются значения выше примерно 2300, когда для платящих пользователей значения выше \n",
    "# примерно 2000. \n",
    "# для группы Б платящих пользователей значение второго квартиля ниже, чем для активных платящих\n",
    "# той же группы.\n",
    "# В целом же можно сделать вывод, что у активных платящих пользователей группы А боксплот выше, что значит - \n",
    "# выше средний чек. "
   ]
  },
  {
   "cell_type": "code",
   "execution_count": 50,
   "metadata": {},
   "outputs": [],
   "source": [
    "payed_users = groups_df.merge(right=cheks_df, how='outer', left_on='id', right_on='student_id')\n",
    "payed_users['is_converted'] = pd.cut(x=payed_users['rev'], bins=[-1, 0, max(CR_active['rev'])], labels=[0, 1]).fillna(0)\n",
    "payed_users['is_converted'] = payed_users['is_converted'].astype('Int32')\n",
    "payed_A = payed_users[(payed_users['grp'] == 'A') & (payed_users['rev'] > 0)]\n",
    "payed_B = payed_users[(payed_users['grp'] == 'B') & (payed_users['rev'] > 0)]"
   ]
  },
  {
   "cell_type": "code",
   "execution_count": 51,
   "metadata": {},
   "outputs": [
    {
     "data": {
      "text/plain": [
       "<seaborn.axisgrid.FacetGrid at 0x7f30247149b0>"
      ]
     },
     "execution_count": 51,
     "metadata": {},
     "output_type": "execute_result"
    },
    {
     "data": {
      "image/png": "[encoded data removed]",
      "text/plain": [
       "<Figure size 360x360 with 1 Axes>"
      ]
     },
     "metadata": {},
     "output_type": "display_data"
    }
   ],
   "source": [
    "sns.displot(x=payed_A['rev'], kde=True)  # распределение данных в группе А "
   ]
  },
  {
   "cell_type": "code",
   "execution_count": 52,
   "metadata": {},
   "outputs": [
    {
     "data": {
      "text/plain": [
       "ShapiroResult(statistic=0.7196124196052551, pvalue=5.321687643507211e-13)"
      ]
     },
     "execution_count": 52,
     "metadata": {},
     "output_type": "execute_result"
    }
   ],
   "source": [
    "# Посмотрим на соответствие данных в выборке для группы Б нормальному распределению\n",
    "st.shapiro(x=payed_A['rev'])"
   ]
  },
  {
   "cell_type": "code",
   "execution_count": 53,
   "metadata": {},
   "outputs": [
    {
     "data": {
      "text/plain": [
       "<seaborn.axisgrid.FacetGrid at 0x7f30246f39b0>"
      ]
     },
     "execution_count": 53,
     "metadata": {},
     "output_type": "execute_result"
    },
    {
     "data": {
      "image/png": "[encoded data removed]",
      "text/plain": [
       "<Figure size 360x360 with 1 Axes>"
      ]
     },
     "metadata": {},
     "output_type": "display_data"
    }
   ],
   "source": [
    "sns.displot(x=payed_B['rev'], kde=True)  # распределение данных в группе Б"
   ]
  },
  {
   "cell_type": "code",
   "execution_count": 54,
   "metadata": {},
   "outputs": [
    {
     "data": {
      "text/plain": [
       "ShapiroResult(statistic=0.867313027381897, pvalue=9.542798088039443e-19)"
      ]
     },
     "execution_count": 54,
     "metadata": {},
     "output_type": "execute_result"
    }
   ],
   "source": [
    "st.shapiro(x=payed_B['rev'])"
   ]
  },
  {
   "cell_type": "code",
   "execution_count": 55,
   "metadata": {},
   "outputs": [],
   "source": [
    "# распределение для средних чеков групп А и Б платящих пользователей ненормально,\n",
    "# поэтому воспользуемся непараметрическим тестом Манна-Уитни"
   ]
  },
  {
   "cell_type": "code",
   "execution_count": 56,
   "metadata": {},
   "outputs": [],
   "source": [
    "# избавимся от выбросов"
   ]
  },
  {
   "cell_type": "code",
   "execution_count": 57,
   "metadata": {},
   "outputs": [],
   "source": [
    "payed_A = payed_A[payed_A['rev'] <= 2000]\n",
    "payed_B = payed_B[payed_B['rev'] <= 4000]"
   ]
  },
  {
   "cell_type": "code",
   "execution_count": 58,
   "metadata": {},
   "outputs": [
    {
     "data": {
      "text/plain": [
       "MannwhitneyuResult(statistic=13584.0, pvalue=4.73870939389106e-08)"
      ]
     },
     "execution_count": 58,
     "metadata": {},
     "output_type": "execute_result"
    }
   ],
   "source": [
    "# используем тест Манна-Уитни\n",
    "st.mannwhitneyu(payed_A['rev'], payed_B['rev'])"
   ]
  },
  {
   "cell_type": "code",
   "execution_count": 59,
   "metadata": {},
   "outputs": [],
   "source": [
    "# тест Манна-Уитни показал, что есть статистически значимое различие между средним чеком\n",
    "# для группы А и Б платящих пользователей"
   ]
  },
  {
   "cell_type": "code",
   "execution_count": 60,
   "metadata": {},
   "outputs": [],
   "source": [
    "# теперь посмотрим на конверсию в покупку "
   ]
  },
  {
   "cell_type": "code",
   "execution_count": 61,
   "metadata": {},
   "outputs": [],
   "source": [
    "CR_payable_A = payed_users[payed_users['grp'] == 'A']\n",
    "CR_payable_B = payed_users[payed_users['grp'] == 'B']"
   ]
  },
  {
   "cell_type": "code",
   "execution_count": 62,
   "metadata": {},
   "outputs": [
    {
     "name": "stderr",
     "output_type": "stream",
     "text": [
      "100%|██████████| 3000/3000 [00:23<00:00, 125.06it/s]\n"
     ]
    },
    {
     "data": {
      "image/png": "[encoded data removed]",
      "text/plain": [
       "<Figure size 432x288 with 1 Axes>"
      ]
     },
     "metadata": {},
     "output_type": "display_data"
    },
    {
     "data": {
      "text/html": [
       "<div>\n",
       "<style scoped>\n",
       "    .dataframe tbody tr th:only-of-type {\n",
       "        vertical-align: middle;\n",
       "    }\n",
       "\n",
       "    .dataframe tbody tr th {\n",
       "        vertical-align: top;\n",
       "    }\n",
       "\n",
       "    .dataframe thead th {\n",
       "        text-align: right;\n",
       "    }\n",
       "</style>\n",
       "<table border=\"1\" class=\"dataframe\">\n",
       "  <thead>\n",
       "    <tr style=\"text-align: right;\">\n",
       "      <th></th>\n",
       "      <th>0</th>\n",
       "    </tr>\n",
       "  </thead>\n",
       "  <tbody>\n",
       "    <tr>\n",
       "      <th>0.025</th>\n",
       "      <td>-0.00097</td>\n",
       "    </tr>\n",
       "    <tr>\n",
       "      <th>0.975</th>\n",
       "      <td>0.00102</td>\n",
       "    </tr>\n",
       "  </tbody>\n",
       "</table>\n",
       "</div>"
      ],
      "text/plain": [
       "             0\n",
       "0.025 -0.00097\n",
       "0.975  0.00102"
      ]
     },
     "execution_count": 62,
     "metadata": {},
     "output_type": "execute_result"
    }
   ],
   "source": [
    "get_bootstrap(CR_payable_A['is_converted'], CR_payable_B['is_converted'], statistic=np.mean, boot_it=3000)"
   ]
  },
  {
   "cell_type": "code",
   "execution_count": 63,
   "metadata": {},
   "outputs": [],
   "source": [
    "# по результатам бутстрапа статистически значимого различия в конверсии для групп А и Б\n",
    "# платящих пользователей нет (0 попадает в доверительный интервал)"
   ]
  },
  {
   "cell_type": "code",
   "execution_count": 64,
   "metadata": {},
   "outputs": [],
   "source": [
    "# исходя из результатов АБ-теста можно сделать вывод о том, что средний чек группы Б статистически\n",
    "# значимо отличается от среднего чека группы А, при этом он выше, чем у последней.\n",
    "# Конверсия двух групп статистически значимо не различается. На основе вышесказанного можно \n",
    "# предложить использовать новый дизайн. "
   ]
  },
  {
   "cell_type": "code",
   "execution_count": 65,
   "metadata": {},
   "outputs": [],
   "source": [
    "########################################################################################################################"
   ]
  },
  {
   "cell_type": "code",
   "execution_count": 66,
   "metadata": {},
   "outputs": [],
   "source": [
    "#                                                 Задание 2.1"
   ]
  },
  {
   "cell_type": "code",
   "execution_count": 67,
   "metadata": {},
   "outputs": [],
   "source": [
    "connection_default = {'host': 'http://clickhouse.beslan.pro:8080',  # задаем параметры подключения к базе данных \n",
    "                      'database': 'default',\n",
    "                      'user': 'student', \n",
    "                      'password': 'dpo_python_2020'\n",
    "                      }"
   ]
  },
  {
   "cell_type": "code",
   "execution_count": 68,
   "metadata": {},
   "outputs": [
    {
     "data": {
      "text/html": [
       "<div>\n",
       "<style scoped>\n",
       "    .dataframe tbody tr th:only-of-type {\n",
       "        vertical-align: middle;\n",
       "    }\n",
       "\n",
       "    .dataframe tbody tr th {\n",
       "        vertical-align: top;\n",
       "    }\n",
       "\n",
       "    .dataframe thead th {\n",
       "        text-align: right;\n",
       "    }\n",
       "</style>\n",
       "<table border=\"1\" class=\"dataframe\">\n",
       "  <thead>\n",
       "    <tr style=\"text-align: right;\">\n",
       "      <th></th>\n",
       "      <th>good_st</th>\n",
       "    </tr>\n",
       "  </thead>\n",
       "  <tbody>\n",
       "    <tr>\n",
       "      <th>0</th>\n",
       "      <td>0</td>\n",
       "    </tr>\n",
       "  </tbody>\n",
       "</table>\n",
       "</div>"
      ],
      "text/plain": [
       "   good_st\n",
       "0        0"
      ]
     },
     "execution_count": 68,
     "metadata": {},
     "output_type": "execute_result"
    }
   ],
   "source": [
    "query_good_st = '''SELECT COUNT(DISTINCT st_id) as good_st\n",
    "FROM \n",
    "    (\n",
    "    SELECT  st_id, \n",
    "            formatDateTime(timest, '%d %H') as solving_day_hour,\n",
    "            COUNT(correct) as right_pea\n",
    "    FROM default.peas\n",
    "    WHERE   (correct = 1) AND                                       \n",
    "            (formatDateTime(timest, '%Y %m') = '2020 03')\n",
    "    GROUP BY st_id, solving_day_hour\n",
    "    )\n",
    "WHERE right_pea >= 20 \n",
    "'''\n",
    "good_st_df = ph.read_clickhouse(query=query_good_st, connection=connection_default) \n",
    "good_st_df.head(10)"
   ]
  },
  {
   "cell_type": "code",
   "execution_count": 69,
   "metadata": {},
   "outputs": [],
   "source": [
    "#                                                 Задание 2.2"
   ]
  },
  {
   "cell_type": "code",
   "execution_count": 70,
   "metadata": {},
   "outputs": [],
   "source": [
    "# в таблице \"studs\" пользователю с одним и тем же id присвоено несколько значений old или/и new, \n",
    "# что неправильно с точки зрения создания самих таблиц (есть id, но при этом строки не являются уникальными), \n",
    "# а также неверно с точки зрения логики проведения АБ-эксперимента - одного пользователя в рамках одного \n",
    "# эксперимента почему-то относят к двум разным группам, либо не содержится информации о разграничении двух разных \n",
    "# экспериментов. В данном случае, чтобы корректно соединить таблицы, стоит создать в них столбцы с числовыми значениями \n",
    "# от 1 до числа, равного кол-ву строк таблицы (ключ). Альтернативным вариантом для решения поставленной задачи \n",
    "# является использование конструкции WITH. "
   ]
  },
  {
   "cell_type": "code",
   "execution_count": 71,
   "metadata": {},
   "outputs": [
    {
     "data": {
      "text/html": [
       "<div>\n",
       "<style scoped>\n",
       "    .dataframe tbody tr th:only-of-type {\n",
       "        vertical-align: middle;\n",
       "    }\n",
       "\n",
       "    .dataframe tbody tr th {\n",
       "        vertical-align: top;\n",
       "    }\n",
       "\n",
       "    .dataframe thead th {\n",
       "        text-align: right;\n",
       "    }\n",
       "</style>\n",
       "<table border=\"1\" class=\"dataframe\">\n",
       "  <thead>\n",
       "    <tr style=\"text-align: right;\">\n",
       "      <th></th>\n",
       "      <th>st_id</th>\n",
       "      <th>test_grp</th>\n",
       "    </tr>\n",
       "  </thead>\n",
       "  <tbody>\n",
       "    <tr>\n",
       "      <th>0</th>\n",
       "      <td>1EYY37</td>\n",
       "      <td>old</td>\n",
       "    </tr>\n",
       "    <tr>\n",
       "      <th>1</th>\n",
       "      <td>1N8MTZ</td>\n",
       "      <td>new</td>\n",
       "    </tr>\n",
       "    <tr>\n",
       "      <th>2</th>\n",
       "      <td>1N8MTZ</td>\n",
       "      <td>new</td>\n",
       "    </tr>\n",
       "    <tr>\n",
       "      <th>3</th>\n",
       "      <td>1N8MTZ</td>\n",
       "      <td>new</td>\n",
       "    </tr>\n",
       "    <tr>\n",
       "      <th>4</th>\n",
       "      <td>1N8MTZ</td>\n",
       "      <td>new</td>\n",
       "    </tr>\n",
       "    <tr>\n",
       "      <th>5</th>\n",
       "      <td>1N8MTZ</td>\n",
       "      <td>new</td>\n",
       "    </tr>\n",
       "    <tr>\n",
       "      <th>6</th>\n",
       "      <td>1N8MTZ</td>\n",
       "      <td>new</td>\n",
       "    </tr>\n",
       "    <tr>\n",
       "      <th>7</th>\n",
       "      <td>1N8MTZ</td>\n",
       "      <td>old</td>\n",
       "    </tr>\n",
       "    <tr>\n",
       "      <th>8</th>\n",
       "      <td>1N8MTZ</td>\n",
       "      <td>old</td>\n",
       "    </tr>\n",
       "    <tr>\n",
       "      <th>9</th>\n",
       "      <td>1N8MTZ</td>\n",
       "      <td>old</td>\n",
       "    </tr>\n",
       "    <tr>\n",
       "      <th>10</th>\n",
       "      <td>1N8MTZ</td>\n",
       "      <td>old</td>\n",
       "    </tr>\n",
       "    <tr>\n",
       "      <th>11</th>\n",
       "      <td>1ZXOI6</td>\n",
       "      <td>new</td>\n",
       "    </tr>\n",
       "    <tr>\n",
       "      <th>12</th>\n",
       "      <td>1ZXOI6</td>\n",
       "      <td>new</td>\n",
       "    </tr>\n",
       "    <tr>\n",
       "      <th>13</th>\n",
       "      <td>1ZXOI6</td>\n",
       "      <td>new</td>\n",
       "    </tr>\n",
       "    <tr>\n",
       "      <th>14</th>\n",
       "      <td>1ZXOI6</td>\n",
       "      <td>new</td>\n",
       "    </tr>\n",
       "  </tbody>\n",
       "</table>\n",
       "</div>"
      ],
      "text/plain": [
       "     st_id test_grp\n",
       "0   1EYY37      old\n",
       "1   1N8MTZ      new\n",
       "2   1N8MTZ      new\n",
       "3   1N8MTZ      new\n",
       "4   1N8MTZ      new\n",
       "5   1N8MTZ      new\n",
       "6   1N8MTZ      new\n",
       "7   1N8MTZ      old\n",
       "8   1N8MTZ      old\n",
       "9   1N8MTZ      old\n",
       "10  1N8MTZ      old\n",
       "11  1ZXOI6      new\n",
       "12  1ZXOI6      new\n",
       "13  1ZXOI6      new\n",
       "14  1ZXOI6      new"
      ]
     },
     "execution_count": 71,
     "metadata": {},
     "output_type": "execute_result"
    }
   ],
   "source": [
    "# посмотрим на данные таблицы studs, из них видно, что строки с id студента не уникальны \n",
    "query_studs = '''SELECT * FROM default.studs'''\n",
    "q_studs_df = ph.read_clickhouse(query=query_studs, connection=connection_default) \n",
    "q_studs_df.head(15)"
   ]
  },
  {
   "cell_type": "code",
   "execution_count": 72,
   "metadata": {},
   "outputs": [
    {
     "data": {
      "text/html": [
       "<div>\n",
       "<style scoped>\n",
       "    .dataframe tbody tr th:only-of-type {\n",
       "        vertical-align: middle;\n",
       "    }\n",
       "\n",
       "    .dataframe tbody tr th {\n",
       "        vertical-align: top;\n",
       "    }\n",
       "\n",
       "    .dataframe thead th {\n",
       "        text-align: right;\n",
       "    }\n",
       "</style>\n",
       "<table border=\"1\" class=\"dataframe\">\n",
       "  <thead>\n",
       "    <tr style=\"text-align: right;\">\n",
       "      <th></th>\n",
       "      <th>students</th>\n",
       "    </tr>\n",
       "  </thead>\n",
       "  <tbody>\n",
       "    <tr>\n",
       "      <th>0</th>\n",
       "      <td>30</td>\n",
       "    </tr>\n",
       "  </tbody>\n",
       "</table>\n",
       "</div>"
      ],
      "text/plain": [
       "   students\n",
       "0        30"
      ]
     },
     "execution_count": 72,
     "metadata": {},
     "output_type": "execute_result"
    }
   ],
   "source": [
    "# В трех таблицах даны данные лишь об активных (платящих) пользователях, в этом легко убедиться - \n",
    "# число уникальных пользователей в таблицах по-отдельности совпадает с числом уникальных пользователей \n",
    "# при соединении таблиц типом INNER JOIN.\n",
    "checks_peas = ph.read_clickhouse('''SELECT  count(DISTINCT(st_id)) as students\n",
    "FROM (SELECT * \n",
    "    FROM default.peas as A\n",
    "    JOIN default.final_project_check AS B\n",
    "    ON A.st_id = B.st_id\n",
    ")\n",
    "''', connection=connection_default)\n",
    "checks_peas"
   ]
  },
  {
   "cell_type": "code",
   "execution_count": 73,
   "metadata": {},
   "outputs": [
    {
     "data": {
      "text/html": [
       "<div>\n",
       "<style scoped>\n",
       "    .dataframe tbody tr th:only-of-type {\n",
       "        vertical-align: middle;\n",
       "    }\n",
       "\n",
       "    .dataframe tbody tr th {\n",
       "        vertical-align: top;\n",
       "    }\n",
       "\n",
       "    .dataframe thead th {\n",
       "        text-align: right;\n",
       "    }\n",
       "</style>\n",
       "<table border=\"1\" class=\"dataframe\">\n",
       "  <thead>\n",
       "    <tr style=\"text-align: right;\">\n",
       "      <th></th>\n",
       "      <th>students</th>\n",
       "    </tr>\n",
       "  </thead>\n",
       "  <tbody>\n",
       "    <tr>\n",
       "      <th>0</th>\n",
       "      <td>30</td>\n",
       "    </tr>\n",
       "  </tbody>\n",
       "</table>\n",
       "</div>"
      ],
      "text/plain": [
       "   students\n",
       "0        30"
      ]
     },
     "execution_count": 73,
     "metadata": {},
     "output_type": "execute_result"
    }
   ],
   "source": [
    "# При этом число уникальных id аналогичное и для таблиц final_project_check, peas, studs\n",
    "# Это уже позволяет говорить нам о том, что CR в покупку = CR активного пользователя в покупку = 1, ARPU = ARPAU, \n",
    "# т.к. имеется информация лишь об активных платящих пользователях\n",
    "checks = ph.read_clickhouse('''SELECT uniqExact(st_id) as students FROM default.final_project_check''',\n",
    "                            connection=connection_default)\n",
    "checks"
   ]
  },
  {
   "cell_type": "code",
   "execution_count": 74,
   "metadata": {},
   "outputs": [
    {
     "data": {
      "text/html": [
       "<div>\n",
       "<style scoped>\n",
       "    .dataframe tbody tr th:only-of-type {\n",
       "        vertical-align: middle;\n",
       "    }\n",
       "\n",
       "    .dataframe tbody tr th {\n",
       "        vertical-align: top;\n",
       "    }\n",
       "\n",
       "    .dataframe thead th {\n",
       "        text-align: right;\n",
       "    }\n",
       "</style>\n",
       "<table border=\"1\" class=\"dataframe\">\n",
       "  <thead>\n",
       "    <tr style=\"text-align: right;\">\n",
       "      <th></th>\n",
       "      <th>students</th>\n",
       "    </tr>\n",
       "  </thead>\n",
       "  <tbody>\n",
       "    <tr>\n",
       "      <th>0</th>\n",
       "      <td>30</td>\n",
       "    </tr>\n",
       "  </tbody>\n",
       "</table>\n",
       "</div>"
      ],
      "text/plain": [
       "   students\n",
       "0        30"
      ]
     },
     "execution_count": 74,
     "metadata": {},
     "output_type": "execute_result"
    }
   ],
   "source": [
    "peas = ph.read_clickhouse('''SELECT uniqExact(st_id) as students FROM default.peas''', connection=connection_default)\n",
    "peas"
   ]
  },
  {
   "cell_type": "code",
   "execution_count": 75,
   "metadata": {},
   "outputs": [
    {
     "data": {
      "text/html": [
       "<div>\n",
       "<style scoped>\n",
       "    .dataframe tbody tr th:only-of-type {\n",
       "        vertical-align: middle;\n",
       "    }\n",
       "\n",
       "    .dataframe tbody tr th {\n",
       "        vertical-align: top;\n",
       "    }\n",
       "\n",
       "    .dataframe thead th {\n",
       "        text-align: right;\n",
       "    }\n",
       "</style>\n",
       "<table border=\"1\" class=\"dataframe\">\n",
       "  <thead>\n",
       "    <tr style=\"text-align: right;\">\n",
       "      <th></th>\n",
       "      <th>students</th>\n",
       "    </tr>\n",
       "  </thead>\n",
       "  <tbody>\n",
       "    <tr>\n",
       "      <th>0</th>\n",
       "      <td>30</td>\n",
       "    </tr>\n",
       "  </tbody>\n",
       "</table>\n",
       "</div>"
      ],
      "text/plain": [
       "   students\n",
       "0        30"
      ]
     },
     "execution_count": 75,
     "metadata": {},
     "output_type": "execute_result"
    }
   ],
   "source": [
    "studs_peas = ph.read_clickhouse('''SELECT  count(DISTINCT(st_id)) as students\n",
    "FROM (SELECT * \n",
    "    FROM default.peas as A\n",
    "    JOIN default.studs AS B\n",
    "    ON A.st_id = B.st_id\n",
    ")\n",
    "''', connection=connection_default)\n",
    "studs_peas"
   ]
  },
  {
   "cell_type": "code",
   "execution_count": 76,
   "metadata": {},
   "outputs": [
    {
     "data": {
      "text/html": [
       "<div>\n",
       "<style scoped>\n",
       "    .dataframe tbody tr th:only-of-type {\n",
       "        vertical-align: middle;\n",
       "    }\n",
       "\n",
       "    .dataframe tbody tr th {\n",
       "        vertical-align: top;\n",
       "    }\n",
       "\n",
       "    .dataframe thead th {\n",
       "        text-align: right;\n",
       "    }\n",
       "</style>\n",
       "<table border=\"1\" class=\"dataframe\">\n",
       "  <thead>\n",
       "    <tr style=\"text-align: right;\">\n",
       "      <th></th>\n",
       "      <th>test_grp</th>\n",
       "      <th>ARPU</th>\n",
       "      <th>ARPAU</th>\n",
       "      <th>CR_to_buy</th>\n",
       "      <th>CR_active_to_buy</th>\n",
       "      <th>CR_math</th>\n",
       "    </tr>\n",
       "  </thead>\n",
       "  <tbody>\n",
       "    <tr>\n",
       "      <th>0</th>\n",
       "      <td>new</td>\n",
       "      <td>59482.758621</td>\n",
       "      <td>59482.758621</td>\n",
       "      <td>1.0</td>\n",
       "      <td>1.0</td>\n",
       "      <td>0.724138</td>\n",
       "    </tr>\n",
       "    <tr>\n",
       "      <th>1</th>\n",
       "      <td>old</td>\n",
       "      <td>58965.517241</td>\n",
       "      <td>58965.517241</td>\n",
       "      <td>1.0</td>\n",
       "      <td>1.0</td>\n",
       "      <td>0.724138</td>\n",
       "    </tr>\n",
       "  </tbody>\n",
       "</table>\n",
       "</div>"
      ],
      "text/plain": [
       "  test_grp          ARPU         ARPAU  CR_to_buy  CR_active_to_buy   CR_math\n",
       "0      new  59482.758621  59482.758621        1.0               1.0  0.724138\n",
       "1      old  58965.517241  58965.517241        1.0               1.0  0.724138"
      ]
     },
     "execution_count": 76,
     "metadata": {},
     "output_type": "execute_result"
    }
   ],
   "source": [
    "metrics = '''WITH  \n",
    "(\n",
    "    SELECT uniqExact(check_st_id) as payable_math \n",
    "    FROM\n",
    "    (\n",
    "        SELECT * \n",
    "        FROM\n",
    "            (\n",
    "                SELECT  st_id as check_st_id, \n",
    "                        subject, \n",
    "                        money,\n",
    "                        row_number() OVER(ORDER BY check_st_id) as fw\n",
    "                FROM default.final_project_check\n",
    "            ) as check\n",
    "        JOIN (\n",
    "                SELECT  st_id,\n",
    "                    test_grp,\n",
    "                    row_number() OVER(ORDER BY st_id) as sw \n",
    "                FROM default.studs\n",
    "            ) as studs\n",
    "        ON  check.check_st_id = studs.st_id AND fw = sw\n",
    "    ) \n",
    "    WHERE subject = 'Math'\n",
    "    \n",
    ") as b\n",
    "\n",
    "\n",
    "SELECT  a.test_grp,\n",
    "        sum(a.money) / uniqExact(a.st_id) as ARPU,\n",
    "        sum(a.money) / uniqExact(a.peas.st_id) as ARPAU,\n",
    "        uniqExact(a.check_st_id) / uniqExact(a.st_id) as CR_to_buy,\n",
    "        uniqExact(a.peas.st_id) / uniqExact(a.st_id) as CR_active_to_buy,\n",
    "        b / uniqExact(a.st_id) as CR_math \n",
    "        \n",
    "FROM  (\n",
    "    SELECT * \n",
    "    FROM\n",
    "    (\n",
    "        SELECT * \n",
    "        FROM\n",
    "            (\n",
    "                SELECT  st_id as check_st_id, \n",
    "                        subject, \n",
    "                        money,\n",
    "                        row_number() OVER(ORDER BY check_st_id) as fw\n",
    "                FROM default.final_project_check\n",
    "            ) as check\n",
    "        JOIN (\n",
    "                SELECT  st_id,\n",
    "                    test_grp,\n",
    "                    row_number() OVER(ORDER BY st_id) as sw \n",
    "                FROM default.studs\n",
    "                    ) as studs\n",
    "        ON  check.check_st_id = studs.st_id AND fw = sw\n",
    "        ) as c_s\n",
    "        JOIN   (\n",
    "                SELECT  st_id,\n",
    "                        subject,\n",
    "                        row_number() OVER(ORDER BY st_id) as pw \n",
    "                FROM default.peas       \n",
    "                ) as peas\n",
    "        ON c_s.st_id = peas.st_id and fw = pw \n",
    ") as a\n",
    "\n",
    "GROUP BY test_grp\n",
    "'''\n",
    "\n",
    "metriq_df = ph.read_clickhouse(query=metrics, connection=connection_default)\n",
    "metriq_df"
   ]
  },
  {
   "cell_type": "code",
   "execution_count": 77,
   "metadata": {},
   "outputs": [],
   "source": [
    "#                                               Задание 3"
   ]
  },
  {
   "cell_type": "code",
   "execution_count": 78,
   "metadata": {},
   "outputs": [],
   "source": [
    "# путь дополнительного файла\n",
    "path_to_additional = '/home/jupyter-i.gorodnichev-15/files_for_project/Проект_2_group_add.csv' "
   ]
  },
  {
   "cell_type": "code",
   "execution_count": 80,
   "metadata": {},
   "outputs": [],
   "source": [
    "def addition(path):\n",
    "    \"\"\"\"Считывает дополнительный файл и считает метрики \n",
    "    \n",
    "    Вводимый аргумент\n",
    "    path -- путь к датафрейму \n",
    "    \n",
    "    Используемые переменные \n",
    "    df -- подгружаемый датафрейм \n",
    "    col_names -- список с названиями колонок из подгружаемого файла\n",
    "    added_df -- датафрейм после присоединения подгружаемого датафрейма\n",
    "    users -- количество строк added_df, оно равно общему числу пользователей\n",
    "    active_payable_users -- датафрейм с данными об активных платящих пользователях\n",
    "    active -- датафрейм с данными об активных пользователях \n",
    "    payable -- датафрейм с данными о платящих пользователях \n",
    "    ARPU, ARPAU, CR_to_buy, CR_active_to_buy -- считаемые метрики \n",
    "    \"\"\"\n",
    "    df = pd.read_csv(path_to_additional, sep=',', encoding='utf-8')\n",
    "    \n",
    "    col_names = df.columns.tolist()\n",
    "    for i in range(0, len(col_names)):\n",
    "        if col_names[i].find('id') > -1:\n",
    "            df.rename(columns={col_names[i]: 'id'})\n",
    "        if (col_names[i].find('grp') > -1) or (col_names[i].find('group') > -1):\n",
    "            df.rename(columns={col_names[i]: 'grp'})\n",
    "    added_df = pd.concat([groups_df, df]).reset_index(drop=True) \n",
    "    \n",
    "    users = added_df.shape[0]   \n",
    "    \n",
    "    active_payable_users = info_df.merge(right=cheks_df, on='student_id', how='inner')\n",
    "        .merge(how='left', right=added_df, left_on='student_id', right_on='id')\n",
    "    active = info_df\n",
    "    payable = cheks_df\n",
    "    active = active.merge(how='left', right=added_df, left_on='student_id', right_on='id')  \n",
    "    payable = payable.merge(how='left', right=added_df, left_on='student_id', right_on='id')\n",
    "    \n",
    "    active_payable_users['CR_active_to_buy'] = 1 / users  \n",
    "    payable['CR_to_buy'] = 1 / users\n",
    "    payable['ARPU'] = payable['rev'] / users\n",
    "    payable['ARPAU'] = payable['rev'] / active.shape[0]\n",
    "    \n",
    "    ARPU = payable['ARPU'].sum()  \n",
    "    ARPAU = payable['ARPAU'].sum()\n",
    "    CR_to_buy = payable['CR_to_buy'].sum()\n",
    "    CR_active_to_buy = active_payable_users['CR_active_to_buy'].sum()\n",
    "    \n",
    "    return f'ARPU = {ARPU}, ARPAU = {ARPAU}, CR_to_buy = {CR_to_buy}, CR_active_to_buy = {CR_active_to_buy}'"
   ]
  },
  {
   "cell_type": "code",
   "execution_count": 81,
   "metadata": {},
   "outputs": [
    {
     "data": {
      "text/plain": [
       "'ARPU = 7.687808458485304, ARPAU = 68.7358834192543, CR_to_buy = 0.007254344561252951, CR_active_to_buy = 0.00525638275048273'"
      ]
     },
     "execution_count": 81,
     "metadata": {},
     "output_type": "execute_result"
    }
   ],
   "source": [
    "addition(path_to_additional)"
   ]
  },
  {
   "cell_type": "code",
   "execution_count": 82,
   "metadata": {},
   "outputs": [],
   "source": [
    "# данная функция во многом будет копировать предыдущую\n",
    "def plots():\n",
    "    \"\"\"\"Считывает дополнительный файл, считает метрики и строит на их основе графики\n",
    " \n",
    "    Используемые переменные \n",
    "    df -- подгружаемый датафрейм \n",
    "    col_names -- список с названиями колонок из подгружаемого файла\n",
    "    added_df -- датафрейм после присоединения подгружаемого датафрейма\n",
    "    users -- количество строк added_df, оно равно общему числу пользователей\n",
    "    active_payable_users -- датафрейм с данными об активных платящих пользователях\n",
    "    active -- датафрейм с данными об активных пользователях \n",
    "    payable -- датафрейм с данными о платящих пользователях \n",
    "    ARPU, ARPAU, CR_to_buy, CR_active_to_buy -- считаемые метрики \n",
    "    \"\"\"\n",
    "    df = pd.read_csv(path_to_additional, sep=',', encoding='utf-8') \n",
    "    \n",
    "    col_names = df.columns.tolist()\n",
    "    for i in range(0, len(col_names)):\n",
    "        if col_names[i].find('id') > -1:\n",
    "            df.rename(columns={col_names[i]: 'id'})\n",
    "        if (col_names[i].find('grp') > -1) or (col_names[i].find('group') > -1):\n",
    "            df.rename(columns={col_names[i]: 'grp'})\n",
    "            \n",
    "    added_df = pd.concat([groups_df, df]).reset_index(drop=True)   \n",
    "   \n",
    "    users = added_df.shape[0] \n",
    "    \n",
    "    active_payable_users = info_df.merge(right=cheks_df, on='student_id', how='inner')\n",
    "        .merge(how='left', right=added_df, left_on='student_id', right_on='id')\n",
    "    active = info_df\n",
    "    payable = cheks_df\n",
    "    active = active.merge(how='left', right=added_df, left_on='student_id', right_on='id')  \n",
    "    payable = payable.merge(how='left', right=added_df, left_on='student_id', right_on='id')\n",
    "    \n",
    "    active_payable_users['CR_active_to_buy'] = 1 / users  \n",
    "    payable['CR_to_buy'] = 1 / users\n",
    "    payable['ARPU'] = payable['rev'] / users\n",
    "    payable['ARPAU'] = payable['rev'] / active.shape[0]\n",
    "    \n",
    "    payable = payable.rename(columns={'grp': 'group'})\n",
    "    active_payable_users = active_payable_users.rename(columns={'grp': 'group'})\n",
    "     \n",
    "    plt.subplot(1, 3, 1)\n",
    "    sns.barplot(data=payable, x='group', y='ARPU', estimator=sum)\n",
    "    plt.subplot(1, 3, 3)\n",
    "    sns.barplot(data=payable, x='group', y='ARPAU', estimator=sum)\n",
    "    plt.show()\n",
    "    plt.subplot(1, 3, 1)\n",
    "    sns.barplot(data=payable, x='group', y='CR_to_buy', estimator=sum)\n",
    "    plt.subplot(1, 3, 3)\n",
    "    sns.barplot(data=active_payable_users, x='group', y='CR_active_to_buy', estimator=sum)\n",
    "    plt.show()"
   ]
  },
  {
   "cell_type": "code",
   "execution_count": 83,
   "metadata": {},
   "outputs": [
    {
     "data": {
      "image/png": "[encoded data removed]",
      "text/plain": [
       "<Figure size 432x288 with 2 Axes>"
      ]
     },
     "metadata": {},
     "output_type": "display_data"
    },
    {
     "data": {
      "image/png": "[encoded data removed]",
      "text/plain": [
       "<Figure size 432x288 with 2 Axes>"
      ]
     },
     "metadata": {},
     "output_type": "display_data"
    }
   ],
   "source": [
    "plots()"
   ]
  },
  {
   "cell_type": "code",
   "execution_count": 84,
   "metadata": {},
   "outputs": [
    {
     "data": {
      "text/plain": [
       "B    59883\n",
       "A    14693\n",
       "Name: grp, dtype: int64"
      ]
     },
     "execution_count": 84,
     "metadata": {},
     "output_type": "execute_result"
    }
   ],
   "source": [
    "df = pd.read_csv(path_to_additional, sep=',', encoding='utf-8')  # считываем дополнительный файл\n",
    "added_df = pd.concat([groups_df, df]).reset_index(drop=True)  # соединяем счиатнный файл с датафреймом,\n",
    "added_df['grp'].value_counts()"
   ]
  },
  {
   "cell_type": "code",
   "execution_count": 86,
   "metadata": {},
   "outputs": [
    {
     "data": {
      "text/plain": [
       "B    6803\n",
       "A    1538\n",
       "Name: grp, dtype: int64"
      ]
     },
     "execution_count": 86,
     "metadata": {},
     "output_type": "execute_result"
    }
   ],
   "source": [
    "active_payable_users = info_df.merge(right=cheks_df, on='student_id', how='inner')\n",
    "    .merge(how='left', right=added_df, left_on='student_id', right_on='id')\n",
    "active = info_df\n",
    "payable = cheks_df\n",
    "active = active.merge(how='left', right=added_df, left_on='student_id', right_on='id')  # при объединении получаем \n",
    "# информацию о разделении пользователей на группы\n",
    "payable = payable.merge(how='left', right=added_df, left_on='student_id', right_on='id')\n",
    "active['grp'].value_counts()"
   ]
  },
  {
   "cell_type": "code",
   "execution_count": 87,
   "metadata": {},
   "outputs": [
    {
     "data": {
      "text/plain": [
       "B    434\n",
       "A    107\n",
       "Name: grp, dtype: int64"
      ]
     },
     "execution_count": 87,
     "metadata": {},
     "output_type": "execute_result"
    }
   ],
   "source": [
    "payable['grp'].value_counts()"
   ]
  },
  {
   "cell_type": "code",
   "execution_count": 88,
   "metadata": {},
   "outputs": [
    {
     "data": {
      "text/plain": [
       "B    314\n",
       "A     78\n",
       "Name: grp, dtype: int64"
      ]
     },
     "execution_count": 88,
     "metadata": {},
     "output_type": "execute_result"
    }
   ],
   "source": [
    "active_payable_users['grp'].value_counts()"
   ]
  },
  {
   "cell_type": "code",
   "execution_count": 89,
   "metadata": {},
   "outputs": [],
   "source": [
    "# исходя из графиков, что показаны выше, видно, что метрики для группы Б выше, чем для А. Однако также заметно, \n",
    "# что количество собранной для группы А информации почти в 4 раза меньше, чем для группы Б, даже\n",
    "# после подгрузки файла с дополнительной информацией.\n",
    "# Большее колчество пользователей из другой группы, и, соответственно, информации об их платежах завышает показатели \n",
    "# метрик при рассмотрении их относительно разных групп. Такая диспропорция в делении пользователей на группы могла \n",
    "# повлиять также на результаты АБ-теста, сделав выводы о его результатах неверными. "
   ]
  }
 ],
 "metadata": {
  "kernelspec": {
   "display_name": "Python 3",
   "language": "python",
   "name": "python3"
  },
  "language_info": {
   "codemirror_mode": {
    "name": "ipython",
    "version": 3
   },
   "file_extension": ".py",
   "mimetype": "text/x-python",
   "name": "python",
   "nbconvert_exporter": "python",
   "pygments_lexer": "ipython3",
   "version": "3.7.3"
  }
 },
 "nbformat": 4,
 "nbformat_minor": 4
}
